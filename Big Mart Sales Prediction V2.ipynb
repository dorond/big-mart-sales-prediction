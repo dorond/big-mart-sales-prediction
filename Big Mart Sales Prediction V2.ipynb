{
 "cells": [
  {
   "cell_type": "markdown",
   "metadata": {},
   "source": [
    "# Project Overview\n",
    "-----\n",
    "\n",
    "The data scientists at BigMart have collected 2013 sales data for 1559 products across 10 stores in different cities. Also, certain attributes of each product and store have been defined. The aim is to build a predictive model and find out the sales of each product at a particular store.\n",
    "\n",
    "Using this model, BigMart will try to understand the properties of products and stores which play a key role in increasing sales.\n",
    "\n",
    " \n",
    "Please note that the data may have missing values as some stores might not report all the data due to technical glitches. Hence, it will be required to treat them accordingly.\n",
    "\n",
    "We have train (8523) and test (5681) data set, train data set has both input and output variable(s). You need to predict the sales for test data set.\n",
    "\n",
    "\n",
    "|Variable|Description|\n",
    "|---|---|\n",
    "|Item_Identifier|Unique product ID|\n",
    "|Item_Weight|Weight of product|\n",
    "|Item_Fat_Content|Whether the product is low fat or not|\n",
    "|Item_Visibility|The % of total display area of all products in a store allocated to the particular product|\n",
    "|Item_Type|The category to which the product belongs|\n",
    "|Item_MRP|Maximum Retail Price (list price) of the product|\n",
    "|Outlet_Identifier|Unique store ID|\n",
    "|Outlet_Establishment_Year|The year in which store was established|\n",
    "|Outlet_Size|The size of the store in terms of ground area covered|\n",
    "|Outlet_Location_Type|The type of city in which the store is located|\n",
    "|Outlet_Type|Whether the outlet is just a grocery store or some sort of supermarket|\n",
    "|Item_Outlet_Sales|Sales of the product in the particulat store. This is the outcome variable to be predicted.|\n",
    "\n",
    "Root Mean Square Error (RMSE) will be used to measure performance."
   ]
  },
  {
   "cell_type": "markdown",
   "metadata": {},
   "source": [
    "## Potential Hypotheses\n",
    "Let's put together a set of store and product level hypothesis that we can use to guide the analysis. The data may not exist to verify these hypothesis, but nontheless it helps to frame our thinking around the problem.\n",
    "\n",
    "Here we are thinking about the influence on sales."
   ]
  },
  {
   "cell_type": "markdown",
   "metadata": {},
   "source": [
    "### Store Level Hypotheses"
   ]
  },
  {
   "cell_type": "markdown",
   "metadata": {},
   "source": [
    "- **City type:** Stores located in urban or Tier 1 cities should have higher sales because of the higher income levels of people there.\n",
    "- **Population Density:** Stores located in densely populated areas should have higher sales because of more demand.\n",
    "- **Store Capacity:** Stores which are very big in size should have higher sales as they act like one-stop-shops and people would prefer getting everything from one place\n",
    "- **Competitors:** Stores having similar establishments nearby should have less sales because of more competition.\n",
    "- **Marketing:** Stores which have a good marketing division should have higher sales as it will be able to attract customers through the right offers and advertising.\n",
    "- **Location:** Stores located within popular marketplaces should have higher sales because of better access to customers.\n",
    "- **Customer Behavior:** Stores keeping the right set of products to meet the local needs of customers will have higher sales.\n",
    "- **Ambience:** Stores which are well-maintained and managed by polite and humble people are expected to have higher footfall and thus higher sales.\n",
    "- **Listing Price**: There may be a difference in listing prices for the same product at difference stores. This may influence the sales."
   ]
  },
  {
   "cell_type": "markdown",
   "metadata": {},
   "source": [
    "### Product Level Hypotheses"
   ]
  },
  {
   "cell_type": "markdown",
   "metadata": {},
   "source": [
    "- **Brand:** Branded products should have higher sales because of higher trust in the customer.\n",
    "- **Packaging:** Products with good packaging can attract customers and sell more.\n",
    "- **Utility:** Daily use products should have a higher tendency to sell as compared to the specific use products.\n",
    "- **Display Area:** Products which are given bigger shelves in the store are likely to catch attention first and sell more.\n",
    "- **Visibility in Store:** The location of product in a store will impact sales. Ones which are right at entrance will catch the eye of customer first rather than the ones in back. Product near the checkout isles, like chocoloates and candy, will attract more sales. \n",
    "- **Advertising:** Better advertising of products in the store should attract higher sales in most cases.\n",
    "- **Promotional Offers:** Products accompanied with attractive offers and discounts will sell more.\n",
    "- **Healthly Products:** Products recognisable as health-brands and/or low-fat or fat-free, may sell more products.\n",
    "- **Listing Price:** While Brand is important when purchasing a product, cost-conscious consumers may seek out lower-cost versions of the same product. Whether this helps or hinders sales depends on the volumes sold."
   ]
  },
  {
   "cell_type": "markdown",
   "metadata": {},
   "source": [
    "# Data Exploration"
   ]
  },
  {
   "cell_type": "markdown",
   "metadata": {},
   "source": [
    "## Setup"
   ]
  },
  {
   "cell_type": "code",
   "execution_count": 1,
   "metadata": {},
   "outputs": [],
   "source": [
    "import pandas as pd\n",
    "import numpy as np\n",
    "import os\n",
    "\n",
    "# To serialise models\n",
    "from sklearn.externals import joblib\n",
    "\n",
    "# To plot pretty figures\n",
    "%matplotlib inline\n",
    "import matplotlib.pyplot as plt\n",
    "\n",
    "plt.rcParams['axes.labelsize'] = 14\n",
    "plt.rcParams['xtick.labelsize'] = 12\n",
    "plt.rcParams['ytick.labelsize'] = 12\n",
    "#plt.rcParams['figure.figsize'] = 12, 8\n",
    "\n",
    "import seaborn as sns\n",
    "sns.set()\n",
    "\n",
    "# to make this notebook's output stable across runs\n",
    "np.random.seed(42)\n",
    "\n",
    "# Where to save the figures\n",
    "PROJECT_ROOT_DIR = \".\"\n",
    "IMAGES_PATH = os.path.join(PROJECT_ROOT_DIR, \"imagesV2\")\n",
    "def save_fig(fig_id, tight_layout=True, fig_extension=\"png\", resolution=300):\n",
    "    if not os.path.isdir(IMAGES_PATH):\n",
    "        os.makedirs(IMAGES_PATH)\n",
    "    path = os.path.join(IMAGES_PATH, fig_id + \".\" + fig_extension)\n",
    "    print(\"Saving figure\", fig_id)\n",
    "    if tight_layout:\n",
    "        plt.tight_layout()\n",
    "    plt.savefig(path, format=fig_extension, dpi=resolution)\n",
    "\n",
    "\n",
    "DATASETS_PATH = os.path.join(PROJECT_ROOT_DIR, \"datasets\")\n",
    "def save_dataset(df, filename, extension=\"csv\"):\n",
    "    if not os.path.isdir(DATASETS_PATH):\n",
    "        os.makedirs(DATASETS_PATH)\n",
    "    path = os.path.join(DATASETS_PATH, filename + \".\" + extension)\n",
    "    print(\"Saving dataset\", filename)\n",
    "    df.to_csv(path, index=False)\n",
    "    \n",
    "SUBMISSIONS_PATH = os.path.join(PROJECT_ROOT_DIR, \"submissions\")\n",
    "def save_submission(df, filename, extension=\"csv\"):\n",
    "    if not os.path.isdir(SUBMISSIONS_PATH):\n",
    "        os.makedirs(SUBMISSIONS_PATH)\n",
    "    path = os.path.join(SUBMISSIONS_PATH, filename + \".\" + extension)\n",
    "    print(\"Saving submission\", filename)\n",
    "    df.to_csv(path, index=False)\n",
    "\n",
    "MODELS_PATH = os.path.join(PROJECT_ROOT_DIR, \"models\")\n",
    "def save_model(model, filename):\n",
    "    if not os.path.isdir(MODELS_PATH):\n",
    "        os.makedirs(MODELS_PATH)\n",
    "    path = os.path.join(MODELS_PATH, filename + \".\" + \"pkl\")\n",
    "    print(\"Saving model\", filename)\n",
    "    joblib.dump(model, path)\n",
    "\n",
    "# Ignore useless warnings\n",
    "import warnings\n",
    "warnings.filterwarnings(action=\"ignore\")"
   ]
  },
  {
   "cell_type": "markdown",
   "metadata": {},
   "source": [
    "## Loading Data"
   ]
  },
  {
   "cell_type": "code",
   "execution_count": 2,
   "metadata": {},
   "outputs": [],
   "source": [
    "#Read files:\n",
    "train = pd.read_csv(\"datasets/train.csv\")\n",
    "test = pd.read_csv(\"datasets/test.csv\")"
   ]
  },
  {
   "cell_type": "markdown",
   "metadata": {},
   "source": [
    "We'll combine the training and testing data so that we don't have to perform the same feature engineering operations twice. By maintaning a `source` column, we can ensure that the originl train vs test split is maintained. "
   ]
  },
  {
   "cell_type": "code",
   "execution_count": 3,
   "metadata": {},
   "outputs": [
    {
     "name": "stdout",
     "output_type": "stream",
     "text": [
      "(8523, 13) (5681, 12) (14204, 13)\n"
     ]
    }
   ],
   "source": [
    "#Combine test and train into one file\n",
    "train['source']='train'\n",
    "test['source']='test'\n",
    "data = pd.concat([train, test], ignore_index=True, sort=False)\n",
    "print (train.shape, test.shape, data.shape)"
   ]
  },
  {
   "cell_type": "code",
   "execution_count": 4,
   "metadata": {},
   "outputs": [
    {
     "data": {
      "text/plain": [
       "Item_Identifier                 0\n",
       "Item_Weight                  2439\n",
       "Item_Fat_Content                0\n",
       "Item_Visibility                 0\n",
       "Item_Type                       0\n",
       "Item_MRP                        0\n",
       "Outlet_Identifier               0\n",
       "Outlet_Establishment_Year       0\n",
       "Outlet_Size                  4016\n",
       "Outlet_Location_Type            0\n",
       "Outlet_Type                     0\n",
       "Item_Outlet_Sales            5681\n",
       "source                          0\n",
       "dtype: int64"
      ]
     },
     "execution_count": 4,
     "metadata": {},
     "output_type": "execute_result"
    }
   ],
   "source": [
    "#Check missing values:\n",
    "data.apply(lambda x: sum(x.isnull()))"
   ]
  },
  {
   "cell_type": "markdown",
   "metadata": {},
   "source": [
    "The missing `Outlet_Sales` values are from the test set we just concatented, as can be confirmed by the shape of the test data. We'll need to handle the missing values in `Item_Weight`, which are numerical and `Outlet_Size`, which are categorical. "
   ]
  },
  {
   "cell_type": "code",
   "execution_count": 5,
   "metadata": {},
   "outputs": [
    {
     "data": {
      "text/html": [
       "<div>\n",
       "<style scoped>\n",
       "    .dataframe tbody tr th:only-of-type {\n",
       "        vertical-align: middle;\n",
       "    }\n",
       "\n",
       "    .dataframe tbody tr th {\n",
       "        vertical-align: top;\n",
       "    }\n",
       "\n",
       "    .dataframe thead th {\n",
       "        text-align: right;\n",
       "    }\n",
       "</style>\n",
       "<table border=\"1\" class=\"dataframe\">\n",
       "  <thead>\n",
       "    <tr style=\"text-align: right;\">\n",
       "      <th></th>\n",
       "      <th>Item_Weight</th>\n",
       "      <th>Item_Visibility</th>\n",
       "      <th>Item_MRP</th>\n",
       "      <th>Outlet_Establishment_Year</th>\n",
       "      <th>Item_Outlet_Sales</th>\n",
       "    </tr>\n",
       "  </thead>\n",
       "  <tbody>\n",
       "    <tr>\n",
       "      <th>count</th>\n",
       "      <td>11765.000000</td>\n",
       "      <td>14204.000000</td>\n",
       "      <td>14204.000000</td>\n",
       "      <td>14204.000000</td>\n",
       "      <td>8523.000000</td>\n",
       "    </tr>\n",
       "    <tr>\n",
       "      <th>mean</th>\n",
       "      <td>12.792854</td>\n",
       "      <td>0.065953</td>\n",
       "      <td>141.004977</td>\n",
       "      <td>1997.830681</td>\n",
       "      <td>2181.288914</td>\n",
       "    </tr>\n",
       "    <tr>\n",
       "      <th>std</th>\n",
       "      <td>4.652502</td>\n",
       "      <td>0.051459</td>\n",
       "      <td>62.086938</td>\n",
       "      <td>8.371664</td>\n",
       "      <td>1706.499616</td>\n",
       "    </tr>\n",
       "    <tr>\n",
       "      <th>min</th>\n",
       "      <td>4.555000</td>\n",
       "      <td>0.000000</td>\n",
       "      <td>31.290000</td>\n",
       "      <td>1985.000000</td>\n",
       "      <td>33.290000</td>\n",
       "    </tr>\n",
       "    <tr>\n",
       "      <th>25%</th>\n",
       "      <td>8.710000</td>\n",
       "      <td>0.027036</td>\n",
       "      <td>94.012000</td>\n",
       "      <td>1987.000000</td>\n",
       "      <td>834.247400</td>\n",
       "    </tr>\n",
       "    <tr>\n",
       "      <th>50%</th>\n",
       "      <td>12.600000</td>\n",
       "      <td>0.054021</td>\n",
       "      <td>142.247000</td>\n",
       "      <td>1999.000000</td>\n",
       "      <td>1794.331000</td>\n",
       "    </tr>\n",
       "    <tr>\n",
       "      <th>75%</th>\n",
       "      <td>16.750000</td>\n",
       "      <td>0.094037</td>\n",
       "      <td>185.855600</td>\n",
       "      <td>2004.000000</td>\n",
       "      <td>3101.296400</td>\n",
       "    </tr>\n",
       "    <tr>\n",
       "      <th>max</th>\n",
       "      <td>21.350000</td>\n",
       "      <td>0.328391</td>\n",
       "      <td>266.888400</td>\n",
       "      <td>2009.000000</td>\n",
       "      <td>13086.964800</td>\n",
       "    </tr>\n",
       "  </tbody>\n",
       "</table>\n",
       "</div>"
      ],
      "text/plain": [
       "        Item_Weight  Item_Visibility      Item_MRP  Outlet_Establishment_Year  \\\n",
       "count  11765.000000     14204.000000  14204.000000               14204.000000   \n",
       "mean      12.792854         0.065953    141.004977                1997.830681   \n",
       "std        4.652502         0.051459     62.086938                   8.371664   \n",
       "min        4.555000         0.000000     31.290000                1985.000000   \n",
       "25%        8.710000         0.027036     94.012000                1987.000000   \n",
       "50%       12.600000         0.054021    142.247000                1999.000000   \n",
       "75%       16.750000         0.094037    185.855600                2004.000000   \n",
       "max       21.350000         0.328391    266.888400                2009.000000   \n",
       "\n",
       "       Item_Outlet_Sales  \n",
       "count        8523.000000  \n",
       "mean         2181.288914  \n",
       "std          1706.499616  \n",
       "min            33.290000  \n",
       "25%           834.247400  \n",
       "50%          1794.331000  \n",
       "75%          3101.296400  \n",
       "max         13086.964800  "
      ]
     },
     "execution_count": 5,
     "metadata": {},
     "output_type": "execute_result"
    }
   ],
   "source": [
    "#Numerical data summary:\n",
    "data.describe()"
   ]
  },
  {
   "cell_type": "markdown",
   "metadata": {},
   "source": [
    "- `Item_Visibility` has a min value of zero. This makes no practical sense because when a product is being sold in a store, the visibility cannot be 0.\n",
    "- `Outlet_Establishment_Years` vary from 1985 to 2009. The values might not be apt in this form. Rather, if we can convert them to how old the particular store is, it should have a better impact on sales.\n",
    "- The lower ‘count’ of `Item_Weight` and `Item_Outlet_Sales` confirms the findings from the missing value check."
   ]
  },
  {
   "cell_type": "markdown",
   "metadata": {},
   "source": [
    "Exploring the categorical variables."
   ]
  },
  {
   "cell_type": "code",
   "execution_count": 6,
   "metadata": {},
   "outputs": [
    {
     "data": {
      "text/plain": [
       "Item_Identifier               1559\n",
       "Item_Weight                    416\n",
       "Item_Fat_Content                 5\n",
       "Item_Visibility              13006\n",
       "Item_Type                       16\n",
       "Item_MRP                      8052\n",
       "Outlet_Identifier               10\n",
       "Outlet_Establishment_Year        9\n",
       "Outlet_Size                      4\n",
       "Outlet_Location_Type             3\n",
       "Outlet_Type                      4\n",
       "Item_Outlet_Sales             3494\n",
       "source                           2\n",
       "dtype: int64"
      ]
     },
     "execution_count": 6,
     "metadata": {},
     "output_type": "execute_result"
    }
   ],
   "source": [
    "#Number of unique values in each:\n",
    "data.apply(lambda x: len(x.unique()))"
   ]
  },
  {
   "cell_type": "markdown",
   "metadata": {},
   "source": [
    "- This tells us that there are **1559** products and **10** outlets/stores (which was also mentioned in problem statement). \n",
    "- `Item_Type` has **16** unique values. \n",
    "- `Item_Fat_Content` has **5** unique values which seems a little odd. It will be useful to understand how fat content influence sales.\n",
    "\n",
    "Let’s explore further using the frequency of different categories in each nominal variable. I’ll exclude the ID and source variables for obvious reasons."
   ]
  },
  {
   "cell_type": "code",
   "execution_count": 7,
   "metadata": {},
   "outputs": [
    {
     "name": "stdout",
     "output_type": "stream",
     "text": [
      "\n",
      "Frequency of Categories for varible Item_Fat_Content\n",
      "Low Fat    8485\n",
      "Regular    4824\n",
      "LF          522\n",
      "reg         195\n",
      "low fat     178\n",
      "Name: Item_Fat_Content, dtype: int64\n",
      "\n",
      "Frequency of Categories for varible Item_Type\n",
      "Fruits and Vegetables    2013\n",
      "Snack Foods              1989\n",
      "Household                1548\n",
      "Frozen Foods             1426\n",
      "Dairy                    1136\n",
      "Baking Goods             1086\n",
      "Canned                   1084\n",
      "Health and Hygiene        858\n",
      "Meat                      736\n",
      "Soft Drinks               726\n",
      "Breads                    416\n",
      "Hard Drinks               362\n",
      "Others                    280\n",
      "Starchy Foods             269\n",
      "Breakfast                 186\n",
      "Seafood                    89\n",
      "Name: Item_Type, dtype: int64\n",
      "\n",
      "Frequency of Categories for varible Outlet_Size\n",
      "Medium    4655\n",
      "Small     3980\n",
      "High      1553\n",
      "Name: Outlet_Size, dtype: int64\n",
      "\n",
      "Frequency of Categories for varible Outlet_Location_Type\n",
      "Tier 3    5583\n",
      "Tier 2    4641\n",
      "Tier 1    3980\n",
      "Name: Outlet_Location_Type, dtype: int64\n",
      "\n",
      "Frequency of Categories for varible Outlet_Type\n",
      "Supermarket Type1    9294\n",
      "Grocery Store        1805\n",
      "Supermarket Type3    1559\n",
      "Supermarket Type2    1546\n",
      "Name: Outlet_Type, dtype: int64\n"
     ]
    }
   ],
   "source": [
    "#Filter categorical variables\n",
    "categorical_columns = [x for x in data.dtypes.index if data.dtypes[x]=='object']\n",
    "#Exclude ID cols and source:\n",
    "categorical_columns = [x for x in categorical_columns if x not in ['Item_Identifier','Outlet_Identifier','source']]\n",
    "#Print frequency of categories\n",
    "for col in categorical_columns:\n",
    "    print ('\\nFrequency of Categories for varible %s'%col)\n",
    "    print (data[col].value_counts())"
   ]
  },
  {
   "cell_type": "markdown",
   "metadata": {},
   "source": [
    "- `Item_Fat_Content`: Some of ‘Low Fat’ values mis-coded as ‘low fat’ and ‘LF’. Also, some of ‘Regular’ are mentioned as ‘regular’.\n",
    "- `Item_Type`: Not all categories have substantial numbers. It looks like combining them can give better results.\n",
    "- `Outlet_Type`: Supermarket Type2 and Type3 can be combined. But we should check if that’s a good idea (by comparing sales per outlet type) before doing it."
   ]
  },
  {
   "cell_type": "markdown",
   "metadata": {},
   "source": [
    "# Data Cleaning"
   ]
  },
  {
   "cell_type": "markdown",
   "metadata": {},
   "source": [
    "## Imputating Item_Weight Missing Values\n",
    "We'll use the average weight of a particular item to impute the missing `Item_Weight` values. As opposed to filling in this value with the mean, median or mode of the column as a whole, this approach ensures that we have correctly matched each item's true weight."
   ]
  },
  {
   "cell_type": "code",
   "execution_count": 8,
   "metadata": {},
   "outputs": [
    {
     "data": {
      "text/html": [
       "<div>\n",
       "<style scoped>\n",
       "    .dataframe tbody tr th:only-of-type {\n",
       "        vertical-align: middle;\n",
       "    }\n",
       "\n",
       "    .dataframe tbody tr th {\n",
       "        vertical-align: top;\n",
       "    }\n",
       "\n",
       "    .dataframe thead th {\n",
       "        text-align: right;\n",
       "    }\n",
       "</style>\n",
       "<table border=\"1\" class=\"dataframe\">\n",
       "  <thead>\n",
       "    <tr style=\"text-align: right;\">\n",
       "      <th></th>\n",
       "      <th>Item_Weight</th>\n",
       "    </tr>\n",
       "    <tr>\n",
       "      <th>Item_Identifier</th>\n",
       "      <th></th>\n",
       "    </tr>\n",
       "  </thead>\n",
       "  <tbody>\n",
       "    <tr>\n",
       "      <th>DRA12</th>\n",
       "      <td>11.600</td>\n",
       "    </tr>\n",
       "    <tr>\n",
       "      <th>DRA24</th>\n",
       "      <td>19.350</td>\n",
       "    </tr>\n",
       "    <tr>\n",
       "      <th>DRA59</th>\n",
       "      <td>8.270</td>\n",
       "    </tr>\n",
       "    <tr>\n",
       "      <th>DRB01</th>\n",
       "      <td>7.390</td>\n",
       "    </tr>\n",
       "    <tr>\n",
       "      <th>DRB13</th>\n",
       "      <td>6.115</td>\n",
       "    </tr>\n",
       "  </tbody>\n",
       "</table>\n",
       "</div>"
      ],
      "text/plain": [
       "                 Item_Weight\n",
       "Item_Identifier             \n",
       "DRA12                 11.600\n",
       "DRA24                 19.350\n",
       "DRA59                  8.270\n",
       "DRB01                  7.390\n",
       "DRB13                  6.115"
      ]
     },
     "execution_count": 8,
     "metadata": {},
     "output_type": "execute_result"
    }
   ],
   "source": [
    "#Determine the average weight per item:\n",
    "item_avg_weight = data.pivot_table(values='Item_Weight', index='Item_Identifier')\n",
    "item_avg_weight.head()"
   ]
  },
  {
   "cell_type": "code",
   "execution_count": 9,
   "metadata": {},
   "outputs": [
    {
     "name": "stdout",
     "output_type": "stream",
     "text": [
      "Orignal #missing: 2439\n",
      "Final #missing: 0\n"
     ]
    }
   ],
   "source": [
    "#Get a boolean variable specifying missing Item_Weight values\n",
    "miss_bool = data['Item_Weight'].isnull() \n",
    "\n",
    "#Impute data and check #missing values before and after imputation to confirm\n",
    "print ('Orignal #missing: %d'% sum(miss_bool))\n",
    "data.loc[miss_bool,'Item_Weight'] = data.loc[miss_bool,'Item_Identifier'].apply(lambda x: item_avg_weight.loc[x])\n",
    "print ('Final #missing: %d'% sum(data['Item_Weight'].isnull()))"
   ]
  },
  {
   "cell_type": "markdown",
   "metadata": {},
   "source": [
    "## Imputing Outlet_Size Missing Values\n",
    "To fill in the missing values for `Outlet_Size`, we will find the mode `Outlet_Size` for each `Outlet_Type` and use that value. Again rather than using the generic mode of all values, we are ensuring that we better match the true value. "
   ]
  },
  {
   "cell_type": "code",
   "execution_count": 10,
   "metadata": {},
   "outputs": [
    {
     "name": "stdout",
     "output_type": "stream",
     "text": [
      "Mode for each Outlet_Type:\n",
      "Outlet_Type                   \n",
      "Grocery Store      Outlet_Size     Small\n",
      "Supermarket Type1  Outlet_Size     Small\n",
      "Supermarket Type2  Outlet_Size    Medium\n",
      "Supermarket Type3  Outlet_Size    Medium\n",
      "dtype: object\n",
      "\n",
      "Orignal #missing: 4016\n",
      "0\n"
     ]
    }
   ],
   "source": [
    "#Import mode function:\n",
    "from scipy.stats import mode\n",
    "\n",
    "outlet_size_mode = data.dropna(subset=['Outlet_Size']).pivot_table(values='Outlet_Size', columns='Outlet_Type',\n",
    "                                                aggfunc=(lambda x:mode(x.astype(str)).mode[0]), dropna=True).unstack()\n",
    "\n",
    "print ('Mode for each Outlet_Type:')\n",
    "print (outlet_size_mode)\n",
    "\n",
    "#Get a boolean variable specifying missing Outlet_Size values\n",
    "miss_bool = data['Outlet_Size'].isnull() \n",
    "\n",
    "#Impute data and check #missing values before and after imputation to confirm\n",
    "print ('\\nOrignal #missing: %d'% sum(miss_bool))\n",
    "data.loc[miss_bool,'Outlet_Size'] = data.loc[miss_bool,'Outlet_Type'].apply(lambda x: outlet_size_mode[x])\n",
    "print (sum(data['Outlet_Size'].isnull()))"
   ]
  },
  {
   "cell_type": "markdown",
   "metadata": {},
   "source": [
    "# Feature Engineering"
   ]
  },
  {
   "cell_type": "markdown",
   "metadata": {},
   "source": [
    "## Consider combining categories in Outlet_Type\n",
    "Let's check if it would be wise to combine `Supermarket Type2` and `Supermarket Type3`. "
   ]
  },
  {
   "cell_type": "code",
   "execution_count": 11,
   "metadata": {},
   "outputs": [
    {
     "data": {
      "text/html": [
       "<div>\n",
       "<style scoped>\n",
       "    .dataframe tbody tr th:only-of-type {\n",
       "        vertical-align: middle;\n",
       "    }\n",
       "\n",
       "    .dataframe tbody tr th {\n",
       "        vertical-align: top;\n",
       "    }\n",
       "\n",
       "    .dataframe thead th {\n",
       "        text-align: right;\n",
       "    }\n",
       "</style>\n",
       "<table border=\"1\" class=\"dataframe\">\n",
       "  <thead>\n",
       "    <tr style=\"text-align: right;\">\n",
       "      <th></th>\n",
       "      <th>Item_Outlet_Sales</th>\n",
       "    </tr>\n",
       "    <tr>\n",
       "      <th>Outlet_Type</th>\n",
       "      <th></th>\n",
       "    </tr>\n",
       "  </thead>\n",
       "  <tbody>\n",
       "    <tr>\n",
       "      <th>Grocery Store</th>\n",
       "      <td>339.828500</td>\n",
       "    </tr>\n",
       "    <tr>\n",
       "      <th>Supermarket Type1</th>\n",
       "      <td>2316.181148</td>\n",
       "    </tr>\n",
       "    <tr>\n",
       "      <th>Supermarket Type2</th>\n",
       "      <td>1995.498739</td>\n",
       "    </tr>\n",
       "    <tr>\n",
       "      <th>Supermarket Type3</th>\n",
       "      <td>3694.038558</td>\n",
       "    </tr>\n",
       "  </tbody>\n",
       "</table>\n",
       "</div>"
      ],
      "text/plain": [
       "                   Item_Outlet_Sales\n",
       "Outlet_Type                         \n",
       "Grocery Store             339.828500\n",
       "Supermarket Type1        2316.181148\n",
       "Supermarket Type2        1995.498739\n",
       "Supermarket Type3        3694.038558"
      ]
     },
     "execution_count": 11,
     "metadata": {},
     "output_type": "execute_result"
    }
   ],
   "source": [
    "#Check the mean sales by type:\n",
    "data.pivot_table(values='Item_Outlet_Sales',index='Outlet_Type')"
   ]
  },
  {
   "cell_type": "markdown",
   "metadata": {},
   "source": [
    "Since there is a substantial difference in their total sales, we'll leave them alone."
   ]
  },
  {
   "cell_type": "markdown",
   "metadata": {},
   "source": [
    "## Modify Item_Visibility\n",
    "Let's impute the `Item_Visibility` zero values with the average for that specific product. "
   ]
  },
  {
   "cell_type": "code",
   "execution_count": 12,
   "metadata": {},
   "outputs": [
    {
     "name": "stdout",
     "output_type": "stream",
     "text": [
      "Number of 0 values initially: 879\n",
      "Number of 0 values after modification: 0\n"
     ]
    }
   ],
   "source": [
    "#Determine average visibility of a product\n",
    "visibility_avg = data.pivot_table(values='Item_Visibility', index='Item_Identifier')\n",
    "\n",
    "#Impute 0 values with mean visibility of that product:\n",
    "miss_bool = (data['Item_Visibility'] == 0)\n",
    "\n",
    "print ('Number of 0 values initially: %d'%sum(miss_bool))\n",
    "data.loc[miss_bool,'Item_Visibility'] = data.loc[miss_bool,'Item_Identifier'].apply(lambda x: visibility_avg.loc[x])\n",
    "print ('Number of 0 values after modification: %d'%sum(data['Item_Visibility'] == 0))"
   ]
  },
  {
   "cell_type": "markdown",
   "metadata": {},
   "source": [
    "In step 1 we hypothesized that products with higher visibility are likely to sell more. But along with comparing products on absolute terms, we should look at the visibility of the product in that particular store as compared to the mean visibility of that product across all stores. This will give some idea about how much importance was given to that product in a store as compared to other stores. We can use the `visibility_avg` variable made above to achieve this."
   ]
  },
  {
   "cell_type": "code",
   "execution_count": 13,
   "metadata": {},
   "outputs": [
    {
     "name": "stdout",
     "output_type": "stream",
     "text": [
      "count    14204.000000\n",
      "mean         1.061884\n",
      "std          0.235907\n",
      "min          0.844563\n",
      "25%          0.925131\n",
      "50%          0.999070\n",
      "75%          1.042007\n",
      "max          3.010094\n",
      "Name: Item_Visibility_MeanRatio, dtype: float64\n"
     ]
    }
   ],
   "source": [
    "#Determine another variable with means ratio\n",
    "data['Item_Visibility_MeanRatio'] = data.apply(lambda x: x['Item_Visibility']/visibility_avg.loc[x['Item_Identifier']], axis=1)\n",
    "print (data['Item_Visibility_MeanRatio'].describe())"
   ]
  },
  {
   "cell_type": "markdown",
   "metadata": {},
   "source": [
    "## Create a broad category of Type of Item\n",
    "Earlier we saw that the `Item_Type` variable has 16 categories which might prove to be very useful in analysis. So its a good idea to combine them. One way could be to manually assign a new category to each, but there’s a catch here. If you look at the Item_Identifier, i.e. the unique ID of each item, it starts with either FD, DR or NC. If you see the categories, these look like being Food, Drinks and Non-Consumables. So I’ve used the Item_Identifier variable to create a new column:"
   ]
  },
  {
   "cell_type": "code",
   "execution_count": 14,
   "metadata": {},
   "outputs": [
    {
     "data": {
      "text/plain": [
       "Food              10201\n",
       "Non-Consumable     2686\n",
       "Drinks             1317\n",
       "Name: Item_Type_Combined, dtype: int64"
      ]
     },
     "execution_count": 14,
     "metadata": {},
     "output_type": "execute_result"
    }
   ],
   "source": [
    "#Item type combine:\n",
    "data['Item_Identifier'].value_counts()\n",
    "data['Item_Type_Combined'] = data['Item_Identifier'].apply(lambda x: x[0:2])\n",
    "data['Item_Type_Combined'] = data['Item_Type_Combined'].map({'FD':'Food',\n",
    "                                                             'NC':'Non-Consumable',\n",
    "                                                             'DR':'Drinks'})\n",
    "data['Item_Type_Combined'].value_counts()"
   ]
  },
  {
   "cell_type": "markdown",
   "metadata": {},
   "source": [
    "## Combine Categories based on Sales\n",
    "Let's combine categories based on sales. The ones with high average sales could be combined together."
   ]
  },
  {
   "cell_type": "markdown",
   "metadata": {},
   "source": [
    "## Determine the years of operation of a store\n",
    "As opposed to a static year value, it will be more useful to use the age of the store. We calculate this from 2013 since this is when the data is applicable until."
   ]
  },
  {
   "cell_type": "code",
   "execution_count": 15,
   "metadata": {},
   "outputs": [
    {
     "data": {
      "text/plain": [
       "count    14204.000000\n",
       "mean        15.169319\n",
       "std          8.371664\n",
       "min          4.000000\n",
       "25%          9.000000\n",
       "50%         14.000000\n",
       "75%         26.000000\n",
       "max         28.000000\n",
       "Name: Outlet_Years, dtype: float64"
      ]
     },
     "execution_count": 15,
     "metadata": {},
     "output_type": "execute_result"
    }
   ],
   "source": [
    "#Years:\n",
    "data['Outlet_Years'] = 2013 - data['Outlet_Establishment_Year']\n",
    "data['Outlet_Years'].describe()"
   ]
  },
  {
   "cell_type": "markdown",
   "metadata": {},
   "source": [
    "- This shows stores which are **4-28** years old"
   ]
  },
  {
   "cell_type": "markdown",
   "metadata": {},
   "source": [
    "## Modify categories of Item_Fat_Content\n",
    "Let's correct the typos in the `Item_Fat_Content` variable. "
   ]
  },
  {
   "cell_type": "code",
   "execution_count": 16,
   "metadata": {},
   "outputs": [
    {
     "name": "stdout",
     "output_type": "stream",
     "text": [
      "Original Categories:\n",
      "Low Fat    8485\n",
      "Regular    4824\n",
      "LF          522\n",
      "reg         195\n",
      "low fat     178\n",
      "Name: Item_Fat_Content, dtype: int64\n",
      "\n",
      "Modified Categories:\n",
      "Low Fat    9185\n",
      "Regular    5019\n",
      "Name: Item_Fat_Content, dtype: int64\n"
     ]
    }
   ],
   "source": [
    "#Change categories of low fat:\n",
    "print ('Original Categories:')\n",
    "print (data['Item_Fat_Content'].value_counts())\n",
    "\n",
    "print ('\\nModified Categories:')\n",
    "data['Item_Fat_Content'] = data['Item_Fat_Content'].replace({'LF':'Low Fat',\n",
    "                                                             'reg':'Regular',\n",
    "                                                             'low fat':'Low Fat'})\n",
    "print (data['Item_Fat_Content'].value_counts())"
   ]
  },
  {
   "cell_type": "markdown",
   "metadata": {},
   "source": [
    "Let's create a seperate `Item_Fat_Content` category to house non-consumable's, for which a fat content value is not applicable. "
   ]
  },
  {
   "cell_type": "code",
   "execution_count": 17,
   "metadata": {},
   "outputs": [
    {
     "data": {
      "text/plain": [
       "Low Fat       6499\n",
       "Regular       5019\n",
       "Non-Edible    2686\n",
       "Name: Item_Fat_Content, dtype: int64"
      ]
     },
     "execution_count": 17,
     "metadata": {},
     "output_type": "execute_result"
    }
   ],
   "source": [
    "#Mark non-consumables as separate category in low_fat:\n",
    "data.loc[data['Item_Type_Combined']==\"Non-Consumable\",'Item_Fat_Content'] = \"Non-Edible\"\n",
    "data['Item_Fat_Content'].value_counts()"
   ]
  },
  {
   "cell_type": "markdown",
   "metadata": {},
   "source": [
    "## Numerical and One-Hot Coding of Categorical variables\n",
    "scikit-learn accepts only numerical variables so we'll convert all categories of nominal variables into numeric types. Also, I wanted `Outlet_Identifier` as a variable as well. So I created a new variable `Outlet` same as Outlet_Identifier and coded that. `Outlet_Identifier` should remain as it is, because it will be required in the submission file.\n",
    "\n",
    "Lets start with coding all categorical variables as numeric using `LabelEncoder` from sklearn’s preprocessing module."
   ]
  },
  {
   "cell_type": "code",
   "execution_count": 18,
   "metadata": {},
   "outputs": [],
   "source": [
    "#Import library:\n",
    "from sklearn.preprocessing import LabelEncoder\n",
    "le = LabelEncoder()\n",
    "#New variable for outlet\n",
    "data['Outlet'] = le.fit_transform(data['Outlet_Identifier'])\n",
    "var_mod = ['Item_Fat_Content','Outlet_Location_Type','Outlet_Size','Item_Type_Combined','Outlet_Type','Outlet']\n",
    "le = LabelEncoder()\n",
    "for i in var_mod:\n",
    "    data[i] = le.fit_transform(data[i])"
   ]
  },
  {
   "cell_type": "code",
   "execution_count": 19,
   "metadata": {},
   "outputs": [
    {
     "data": {
      "text/html": [
       "<div>\n",
       "<style scoped>\n",
       "    .dataframe tbody tr th:only-of-type {\n",
       "        vertical-align: middle;\n",
       "    }\n",
       "\n",
       "    .dataframe tbody tr th {\n",
       "        vertical-align: top;\n",
       "    }\n",
       "\n",
       "    .dataframe thead th {\n",
       "        text-align: right;\n",
       "    }\n",
       "</style>\n",
       "<table border=\"1\" class=\"dataframe\">\n",
       "  <thead>\n",
       "    <tr style=\"text-align: right;\">\n",
       "      <th></th>\n",
       "      <th>Item_Identifier</th>\n",
       "      <th>Item_Weight</th>\n",
       "      <th>Item_Fat_Content</th>\n",
       "      <th>Item_Visibility</th>\n",
       "      <th>Item_Type</th>\n",
       "      <th>Item_MRP</th>\n",
       "      <th>Outlet_Identifier</th>\n",
       "      <th>Outlet_Establishment_Year</th>\n",
       "      <th>Outlet_Size</th>\n",
       "      <th>Outlet_Location_Type</th>\n",
       "      <th>Outlet_Type</th>\n",
       "      <th>Item_Outlet_Sales</th>\n",
       "      <th>source</th>\n",
       "      <th>Item_Visibility_MeanRatio</th>\n",
       "      <th>Item_Type_Combined</th>\n",
       "      <th>Outlet_Years</th>\n",
       "      <th>Outlet</th>\n",
       "    </tr>\n",
       "  </thead>\n",
       "  <tbody>\n",
       "    <tr>\n",
       "      <th>0</th>\n",
       "      <td>FDA15</td>\n",
       "      <td>9.30</td>\n",
       "      <td>0</td>\n",
       "      <td>0.016047</td>\n",
       "      <td>Dairy</td>\n",
       "      <td>249.8092</td>\n",
       "      <td>OUT049</td>\n",
       "      <td>1999</td>\n",
       "      <td>1</td>\n",
       "      <td>0</td>\n",
       "      <td>1</td>\n",
       "      <td>3735.1380</td>\n",
       "      <td>train</td>\n",
       "      <td>0.931078</td>\n",
       "      <td>1</td>\n",
       "      <td>14</td>\n",
       "      <td>9</td>\n",
       "    </tr>\n",
       "    <tr>\n",
       "      <th>1</th>\n",
       "      <td>DRC01</td>\n",
       "      <td>5.92</td>\n",
       "      <td>2</td>\n",
       "      <td>0.019278</td>\n",
       "      <td>Soft Drinks</td>\n",
       "      <td>48.2692</td>\n",
       "      <td>OUT018</td>\n",
       "      <td>2009</td>\n",
       "      <td>1</td>\n",
       "      <td>2</td>\n",
       "      <td>2</td>\n",
       "      <td>443.4228</td>\n",
       "      <td>train</td>\n",
       "      <td>0.933420</td>\n",
       "      <td>0</td>\n",
       "      <td>4</td>\n",
       "      <td>3</td>\n",
       "    </tr>\n",
       "    <tr>\n",
       "      <th>2</th>\n",
       "      <td>FDN15</td>\n",
       "      <td>17.50</td>\n",
       "      <td>0</td>\n",
       "      <td>0.016760</td>\n",
       "      <td>Meat</td>\n",
       "      <td>141.6180</td>\n",
       "      <td>OUT049</td>\n",
       "      <td>1999</td>\n",
       "      <td>1</td>\n",
       "      <td>0</td>\n",
       "      <td>1</td>\n",
       "      <td>2097.2700</td>\n",
       "      <td>train</td>\n",
       "      <td>0.960069</td>\n",
       "      <td>1</td>\n",
       "      <td>14</td>\n",
       "      <td>9</td>\n",
       "    </tr>\n",
       "    <tr>\n",
       "      <th>3</th>\n",
       "      <td>FDX07</td>\n",
       "      <td>19.20</td>\n",
       "      <td>2</td>\n",
       "      <td>0.017834</td>\n",
       "      <td>Fruits and Vegetables</td>\n",
       "      <td>182.0950</td>\n",
       "      <td>OUT010</td>\n",
       "      <td>1998</td>\n",
       "      <td>2</td>\n",
       "      <td>2</td>\n",
       "      <td>0</td>\n",
       "      <td>732.3800</td>\n",
       "      <td>train</td>\n",
       "      <td>1.000000</td>\n",
       "      <td>1</td>\n",
       "      <td>15</td>\n",
       "      <td>0</td>\n",
       "    </tr>\n",
       "    <tr>\n",
       "      <th>4</th>\n",
       "      <td>NCD19</td>\n",
       "      <td>8.93</td>\n",
       "      <td>1</td>\n",
       "      <td>0.009780</td>\n",
       "      <td>Household</td>\n",
       "      <td>53.8614</td>\n",
       "      <td>OUT013</td>\n",
       "      <td>1987</td>\n",
       "      <td>0</td>\n",
       "      <td>2</td>\n",
       "      <td>1</td>\n",
       "      <td>994.7052</td>\n",
       "      <td>train</td>\n",
       "      <td>1.000000</td>\n",
       "      <td>2</td>\n",
       "      <td>26</td>\n",
       "      <td>1</td>\n",
       "    </tr>\n",
       "  </tbody>\n",
       "</table>\n",
       "</div>"
      ],
      "text/plain": [
       "  Item_Identifier  Item_Weight  Item_Fat_Content  Item_Visibility  \\\n",
       "0           FDA15         9.30                 0         0.016047   \n",
       "1           DRC01         5.92                 2         0.019278   \n",
       "2           FDN15        17.50                 0         0.016760   \n",
       "3           FDX07        19.20                 2         0.017834   \n",
       "4           NCD19         8.93                 1         0.009780   \n",
       "\n",
       "               Item_Type  Item_MRP Outlet_Identifier  \\\n",
       "0                  Dairy  249.8092            OUT049   \n",
       "1            Soft Drinks   48.2692            OUT018   \n",
       "2                   Meat  141.6180            OUT049   \n",
       "3  Fruits and Vegetables  182.0950            OUT010   \n",
       "4              Household   53.8614            OUT013   \n",
       "\n",
       "   Outlet_Establishment_Year  Outlet_Size  Outlet_Location_Type  Outlet_Type  \\\n",
       "0                       1999            1                     0            1   \n",
       "1                       2009            1                     2            2   \n",
       "2                       1999            1                     0            1   \n",
       "3                       1998            2                     2            0   \n",
       "4                       1987            0                     2            1   \n",
       "\n",
       "   Item_Outlet_Sales source  Item_Visibility_MeanRatio  Item_Type_Combined  \\\n",
       "0          3735.1380  train                   0.931078                   1   \n",
       "1           443.4228  train                   0.933420                   0   \n",
       "2          2097.2700  train                   0.960069                   1   \n",
       "3           732.3800  train                   1.000000                   1   \n",
       "4           994.7052  train                   1.000000                   2   \n",
       "\n",
       "   Outlet_Years  Outlet  \n",
       "0            14       9  \n",
       "1             4       3  \n",
       "2            14       9  \n",
       "3            15       0  \n",
       "4            26       1  "
      ]
     },
     "execution_count": 19,
     "metadata": {},
     "output_type": "execute_result"
    }
   ],
   "source": [
    "data.head()"
   ]
  },
  {
   "cell_type": "markdown",
   "metadata": {},
   "source": [
    "One-Hot-Coding refers to creating dummy variables, one for each category of a categorical variable. For example, the `Item_Fat_Content` has 3 categories – ‘Low Fat’, ‘Regular’ and ‘Non-Edible’. One hot coding will remove this variable and generate 3 new variables. Each will have binary numbers – 0 (if the category is not present) and 1(if category is present). This can be done using ‘get_dummies’ function of Pandas."
   ]
  },
  {
   "cell_type": "code",
   "execution_count": 20,
   "metadata": {},
   "outputs": [],
   "source": [
    "#One Hot Coding:\n",
    "data = pd.get_dummies(data, columns=['Item_Fat_Content','Outlet_Location_Type','Outlet_Size','Outlet_Type',\n",
    "                              'Item_Type_Combined','Outlet'])"
   ]
  },
  {
   "cell_type": "code",
   "execution_count": 21,
   "metadata": {},
   "outputs": [
    {
     "data": {
      "text/plain": [
       "Item_Identifier               object\n",
       "Item_Weight                  float64\n",
       "Item_Visibility              float64\n",
       "Item_Type                     object\n",
       "Item_MRP                     float64\n",
       "Outlet_Identifier             object\n",
       "Outlet_Establishment_Year      int64\n",
       "Item_Outlet_Sales            float64\n",
       "source                        object\n",
       "Item_Visibility_MeanRatio    float64\n",
       "Outlet_Years                   int64\n",
       "Item_Fat_Content_0             uint8\n",
       "Item_Fat_Content_1             uint8\n",
       "Item_Fat_Content_2             uint8\n",
       "Outlet_Location_Type_0         uint8\n",
       "Outlet_Location_Type_1         uint8\n",
       "Outlet_Location_Type_2         uint8\n",
       "Outlet_Size_0                  uint8\n",
       "Outlet_Size_1                  uint8\n",
       "Outlet_Size_2                  uint8\n",
       "Outlet_Type_0                  uint8\n",
       "Outlet_Type_1                  uint8\n",
       "Outlet_Type_2                  uint8\n",
       "Outlet_Type_3                  uint8\n",
       "Item_Type_Combined_0           uint8\n",
       "Item_Type_Combined_1           uint8\n",
       "Item_Type_Combined_2           uint8\n",
       "Outlet_0                       uint8\n",
       "Outlet_1                       uint8\n",
       "Outlet_2                       uint8\n",
       "Outlet_3                       uint8\n",
       "Outlet_4                       uint8\n",
       "Outlet_5                       uint8\n",
       "Outlet_6                       uint8\n",
       "Outlet_7                       uint8\n",
       "Outlet_8                       uint8\n",
       "Outlet_9                       uint8\n",
       "dtype: object"
      ]
     },
     "execution_count": 21,
     "metadata": {},
     "output_type": "execute_result"
    }
   ],
   "source": [
    "data.dtypes"
   ]
  },
  {
   "cell_type": "code",
   "execution_count": 22,
   "metadata": {},
   "outputs": [
    {
     "data": {
      "text/html": [
       "<div>\n",
       "<style scoped>\n",
       "    .dataframe tbody tr th:only-of-type {\n",
       "        vertical-align: middle;\n",
       "    }\n",
       "\n",
       "    .dataframe tbody tr th {\n",
       "        vertical-align: top;\n",
       "    }\n",
       "\n",
       "    .dataframe thead th {\n",
       "        text-align: right;\n",
       "    }\n",
       "</style>\n",
       "<table border=\"1\" class=\"dataframe\">\n",
       "  <thead>\n",
       "    <tr style=\"text-align: right;\">\n",
       "      <th></th>\n",
       "      <th>Item_Fat_Content_0</th>\n",
       "      <th>Item_Fat_Content_1</th>\n",
       "      <th>Item_Fat_Content_2</th>\n",
       "    </tr>\n",
       "  </thead>\n",
       "  <tbody>\n",
       "    <tr>\n",
       "      <th>0</th>\n",
       "      <td>1</td>\n",
       "      <td>0</td>\n",
       "      <td>0</td>\n",
       "    </tr>\n",
       "    <tr>\n",
       "      <th>1</th>\n",
       "      <td>0</td>\n",
       "      <td>0</td>\n",
       "      <td>1</td>\n",
       "    </tr>\n",
       "    <tr>\n",
       "      <th>2</th>\n",
       "      <td>1</td>\n",
       "      <td>0</td>\n",
       "      <td>0</td>\n",
       "    </tr>\n",
       "    <tr>\n",
       "      <th>3</th>\n",
       "      <td>0</td>\n",
       "      <td>0</td>\n",
       "      <td>1</td>\n",
       "    </tr>\n",
       "    <tr>\n",
       "      <th>4</th>\n",
       "      <td>0</td>\n",
       "      <td>1</td>\n",
       "      <td>0</td>\n",
       "    </tr>\n",
       "    <tr>\n",
       "      <th>5</th>\n",
       "      <td>0</td>\n",
       "      <td>0</td>\n",
       "      <td>1</td>\n",
       "    </tr>\n",
       "    <tr>\n",
       "      <th>6</th>\n",
       "      <td>0</td>\n",
       "      <td>0</td>\n",
       "      <td>1</td>\n",
       "    </tr>\n",
       "    <tr>\n",
       "      <th>7</th>\n",
       "      <td>1</td>\n",
       "      <td>0</td>\n",
       "      <td>0</td>\n",
       "    </tr>\n",
       "    <tr>\n",
       "      <th>8</th>\n",
       "      <td>0</td>\n",
       "      <td>0</td>\n",
       "      <td>1</td>\n",
       "    </tr>\n",
       "    <tr>\n",
       "      <th>9</th>\n",
       "      <td>0</td>\n",
       "      <td>0</td>\n",
       "      <td>1</td>\n",
       "    </tr>\n",
       "  </tbody>\n",
       "</table>\n",
       "</div>"
      ],
      "text/plain": [
       "   Item_Fat_Content_0  Item_Fat_Content_1  Item_Fat_Content_2\n",
       "0                   1                   0                   0\n",
       "1                   0                   0                   1\n",
       "2                   1                   0                   0\n",
       "3                   0                   0                   1\n",
       "4                   0                   1                   0\n",
       "5                   0                   0                   1\n",
       "6                   0                   0                   1\n",
       "7                   1                   0                   0\n",
       "8                   0                   0                   1\n",
       "9                   0                   0                   1"
      ]
     },
     "execution_count": 22,
     "metadata": {},
     "output_type": "execute_result"
    }
   ],
   "source": [
    "# Viewing the dummy variables for each fat content type\n",
    "data[['Item_Fat_Content_0','Item_Fat_Content_1','Item_Fat_Content_2']].head(10)"
   ]
  },
  {
   "cell_type": "markdown",
   "metadata": {},
   "source": [
    "## Exporting Data\n",
    "We'll export modified versions of our training and test data that contain all of our feature engineering. This will allow us to easily build new models at a later stage with a clean set of data ready for modelling. "
   ]
  },
  {
   "cell_type": "code",
   "execution_count": 23,
   "metadata": {},
   "outputs": [
    {
     "name": "stdout",
     "output_type": "stream",
     "text": [
      "Saving dataset train_modified\n",
      "Saving dataset test_modified\n"
     ]
    }
   ],
   "source": [
    "#Drop the columns which have been converted to different types:\n",
    "data.drop(['Item_Type','Outlet_Establishment_Year'],axis=1,inplace=True)\n",
    "\n",
    "#Divide into test and train:\n",
    "train = data.loc[data['source']==\"train\"]\n",
    "test = data.loc[data['source']==\"test\"]\n",
    "\n",
    "#Drop unnecessary columns:\n",
    "test.drop(['Item_Outlet_Sales','source'],axis=1,inplace=True)\n",
    "train.drop(['source'],axis=1,inplace=True)\n",
    "\n",
    "#Export files as modified versions:\n",
    "save_dataset(train, \"train_modified\")\n",
    "save_dataset(test, \"test_modified\")"
   ]
  },
  {
   "cell_type": "markdown",
   "metadata": {},
   "source": [
    "# Model Building"
   ]
  },
  {
   "cell_type": "markdown",
   "metadata": {},
   "source": [
    "## Load Data"
   ]
  },
  {
   "cell_type": "code",
   "execution_count": 24,
   "metadata": {},
   "outputs": [],
   "source": [
    "train = pd.read_csv(\"datasets/train_modified.csv\")\n",
    "test = pd.read_csv(\"datasets/test_modified.csv\")"
   ]
  },
  {
   "cell_type": "code",
   "execution_count": 25,
   "metadata": {},
   "outputs": [
    {
     "name": "stdout",
     "output_type": "stream",
     "text": [
      "(8523, 34)\n"
     ]
    },
    {
     "data": {
      "text/plain": [
       "Item_Identifier               object\n",
       "Item_Weight                  float64\n",
       "Item_Visibility              float64\n",
       "Item_MRP                     float64\n",
       "Outlet_Identifier             object\n",
       "Item_Outlet_Sales            float64\n",
       "Item_Visibility_MeanRatio    float64\n",
       "Outlet_Years                   int64\n",
       "Item_Fat_Content_0             int64\n",
       "Item_Fat_Content_1             int64\n",
       "Item_Fat_Content_2             int64\n",
       "Outlet_Location_Type_0         int64\n",
       "Outlet_Location_Type_1         int64\n",
       "Outlet_Location_Type_2         int64\n",
       "Outlet_Size_0                  int64\n",
       "Outlet_Size_1                  int64\n",
       "Outlet_Size_2                  int64\n",
       "Outlet_Type_0                  int64\n",
       "Outlet_Type_1                  int64\n",
       "Outlet_Type_2                  int64\n",
       "Outlet_Type_3                  int64\n",
       "Item_Type_Combined_0           int64\n",
       "Item_Type_Combined_1           int64\n",
       "Item_Type_Combined_2           int64\n",
       "Outlet_0                       int64\n",
       "Outlet_1                       int64\n",
       "Outlet_2                       int64\n",
       "Outlet_3                       int64\n",
       "Outlet_4                       int64\n",
       "Outlet_5                       int64\n",
       "Outlet_6                       int64\n",
       "Outlet_7                       int64\n",
       "Outlet_8                       int64\n",
       "Outlet_9                       int64\n",
       "dtype: object"
      ]
     },
     "execution_count": 25,
     "metadata": {},
     "output_type": "execute_result"
    }
   ],
   "source": [
    "print (train.shape)\n",
    "train.dtypes"
   ]
  },
  {
   "cell_type": "markdown",
   "metadata": {},
   "source": [
    "## Creating Baseline Model\n",
    "Lets start by making a baseline model. A baseline is one that requires no predictive model and its like an informed guess. For instance, in this case lets predict the sales as the overall average sales."
   ]
  },
  {
   "cell_type": "code",
   "execution_count": 26,
   "metadata": {},
   "outputs": [
    {
     "name": "stdout",
     "output_type": "stream",
     "text": [
      "Saving submission baseline\n",
      "Saving model baseline\n"
     ]
    }
   ],
   "source": [
    "#Mean based:\n",
    "mean_sales = train['Item_Outlet_Sales'].mean()\n",
    "\n",
    "#Define a dataframe with IDs for submission:\n",
    "base1 = test[['Item_Identifier','Outlet_Identifier']]\n",
    "base1['Item_Outlet_Sales'] = mean_sales\n",
    "\n",
    "#Export submission file\n",
    "save_submission(base1, \"baseline\")\n",
    "save_model(base1, \"baseline\")"
   ]
  },
  {
   "cell_type": "markdown",
   "metadata": {},
   "source": [
    "## Function to Fit and Generate Submission File\n",
    "We'll create a generic function that can run cross-validation using different model types and output the results to a submission file, including all the neccessary columns required by the submission guidelines. This function is for a first-time run to ascertain which algorithm may perform best. As such, it doesnt allow for Grid or Random Search across different hyperparameters. We'll create a different function later that can handle that for model fine-tuning."
   ]
  },
  {
   "cell_type": "code",
   "execution_count": 27,
   "metadata": {},
   "outputs": [],
   "source": [
    "#Define target and ID columns:\n",
    "target = 'Item_Outlet_Sales'\n",
    "IDcol = ['Item_Identifier','Outlet_Identifier']"
   ]
  },
  {
   "cell_type": "code",
   "execution_count": 28,
   "metadata": {},
   "outputs": [],
   "source": [
    "from sklearn.metrics import mean_squared_error\n",
    "from sklearn.model_selection import cross_val_score\n",
    "\n",
    "def modelfit(alg, dtrain, dtest, predictors, target, IDcol, filename):\n",
    "    #Fit the algorithm on the data\n",
    "    alg.fit(dtrain[predictors], dtrain[target])\n",
    "        \n",
    "    #Predict training set:\n",
    "    dtrain_predictions = alg.predict(dtrain[predictors])\n",
    "\n",
    "    #Perform cross-validation:\n",
    "    cv_score = cross_val_score(alg, dtrain[predictors], dtrain[target], cv=20, scoring='neg_mean_squared_error')\n",
    "    cv_score = np.sqrt(np.abs(cv_score))\n",
    "    \n",
    "    #Print model report:\n",
    "    print (\"\\nModel Report\")\n",
    "    print (\"RMSE : %.4g\" % np.sqrt(mean_squared_error(dtrain[target].values, dtrain_predictions)))\n",
    "    print (\"CV Score : Mean - %.4g | Std - %.4g | Min - %.4g | Max - %.4g\" % (np.mean(cv_score),np.std(cv_score),np.min(cv_score),np.max(cv_score)))\n",
    "    \n",
    "    #Predict on testing data:\n",
    "    dtest[target] = alg.predict(dtest[predictors])\n",
    "    \n",
    "    #Export submission file:\n",
    "    IDcol.append(target)\n",
    "    submission = pd.DataFrame({ x: dtest[x] for x in IDcol})\n",
    "    save_model(alg, filename)\n",
    "    save_submission(submission, filename)\n",
    "    \n",
    "    #submission.to_csv(\"datasets/\" + filename, index=False)"
   ]
  },
  {
   "cell_type": "markdown",
   "metadata": {},
   "source": [
    "## Linear Regression Model"
   ]
  },
  {
   "cell_type": "code",
   "execution_count": 29,
   "metadata": {},
   "outputs": [],
   "source": [
    "from sklearn.linear_model import LinearRegression, Ridge"
   ]
  },
  {
   "cell_type": "code",
   "execution_count": 30,
   "metadata": {},
   "outputs": [
    {
     "name": "stdout",
     "output_type": "stream",
     "text": [
      "\n",
      "Model Report\n",
      "RMSE : 1128\n",
      "CV Score : Mean - 1129 | Std - 43.72 | Min - 1074 | Max - 1213\n",
      "Saving model linear_regression_model\n",
      "Saving submission linear_regression_model\n",
      "Saving figure linear_regression_coefficients\n"
     ]
    },
    {
     "data": {
      "image/png": "[encoded data removed]",
      "text/plain": [
       "<Figure size 864x576 with 1 Axes>"
      ]
     },
     "metadata": {},
     "output_type": "display_data"
    }
   ],
   "source": [
    "predictors = [x for x in train.columns if x not in [target]+IDcol]\n",
    "# print predictors\n",
    "alg = LinearRegression(normalize=True)\n",
    "modelfit(alg, train, test, predictors, target, IDcol, 'linear_regression_model')\n",
    "coef = pd.Series(alg.coef_, predictors).sort_values()\n",
    "coef.plot(kind='bar', title='Model Coefficients', figsize=(12, 8))\n",
    "\n",
    "save_fig('linear_regression_coefficients')"
   ]
  },
  {
   "cell_type": "markdown",
   "metadata": {},
   "source": [
    "- We can see this is better than baseline model. But if you notice the coefficients, they are very large in magnitude which signifies overfitting. To cater to this, lets use a ridge regression model. "
   ]
  },
  {
   "cell_type": "markdown",
   "metadata": {},
   "source": [
    "## Ridge Regression Model"
   ]
  },
  {
   "cell_type": "code",
   "execution_count": 31,
   "metadata": {},
   "outputs": [
    {
     "name": "stdout",
     "output_type": "stream",
     "text": [
      "\n",
      "Model Report\n",
      "RMSE : 1129\n",
      "CV Score : Mean - 1130 | Std - 44.6 | Min - 1076 | Max - 1217\n",
      "Saving model ridge_regression_model\n",
      "Saving submission ridge_regression_model\n",
      "Saving figure ridge_regression_coefficients\n"
     ]
    },
    {
     "data": {
      "image/png": "[encoded data removed]",
      "text/plain": [
       "<Figure size 864x576 with 1 Axes>"
      ]
     },
     "metadata": {},
     "output_type": "display_data"
    }
   ],
   "source": [
    "predictors = [x for x in train.columns if x not in [target]+IDcol]\n",
    "alg = Ridge(alpha=0.05,normalize=True)\n",
    "modelfit(alg, train, test, predictors, target, IDcol, 'ridge_regression_model')\n",
    "coef = pd.Series(alg.coef_, predictors).sort_values()\n",
    "coef.plot(kind='bar', title='Model Coefficients', figsize=(12, 8))\n",
    "\n",
    "save_fig('ridge_regression_coefficients')"
   ]
  },
  {
   "cell_type": "markdown",
   "metadata": {},
   "source": [
    "- Though the regression coefficients look better now, the score is about the same. You can tune the parameters of the model for slightly better results but I don’t think there will be a significant improvement. Even the cross-validation score is same so we can’t expect way better performance."
   ]
  },
  {
   "cell_type": "markdown",
   "metadata": {},
   "source": [
    "## SVM Model"
   ]
  },
  {
   "cell_type": "code",
   "execution_count": 32,
   "metadata": {},
   "outputs": [],
   "source": [
    "from sklearn.svm import SVR"
   ]
  },
  {
   "cell_type": "code",
   "execution_count": 33,
   "metadata": {},
   "outputs": [
    {
     "name": "stdout",
     "output_type": "stream",
     "text": [
      "\n",
      "Model Report\n",
      "RMSE : 1192\n",
      "CV Score : Mean - 1194 | Std - 53.63 | Min - 1118 | Max - 1295\n",
      "Saving model svm_model\n",
      "Saving submission svm_model\n",
      "Saving figure svm_coefficients\n"
     ]
    },
    {
     "data": {
      "image/png": "[encoded data removed]",
      "text/plain": [
       "<Figure size 864x576 with 1 Axes>"
      ]
     },
     "metadata": {},
     "output_type": "display_data"
    }
   ],
   "source": [
    "predictors = [x for x in train.columns if x not in [target]+IDcol]\n",
    "alg = SVR(kernel=\"linear\")\n",
    "modelfit(alg, train, test, predictors, target, IDcol, 'svm_model')\n",
    "coef = pd.Series(alg.coef_[0], predictors).sort_values(ascending=False)\n",
    "coef.plot(kind='bar', title='Feature Importances', figsize=(12, 8))\n",
    "\n",
    "save_fig('svm_coefficients')"
   ]
  },
  {
   "cell_type": "markdown",
   "metadata": {},
   "source": [
    "## Decision Tree Model"
   ]
  },
  {
   "cell_type": "code",
   "execution_count": 34,
   "metadata": {},
   "outputs": [],
   "source": [
    "from sklearn.tree import DecisionTreeRegressor"
   ]
  },
  {
   "cell_type": "code",
   "execution_count": 35,
   "metadata": {},
   "outputs": [
    {
     "name": "stdout",
     "output_type": "stream",
     "text": [
      "\n",
      "Model Report\n",
      "RMSE : 1058\n",
      "CV Score : Mean - 1091 | Std - 45.42 | Min - 1003 | Max - 1186\n",
      "Saving model decision_tree_model_1\n",
      "Saving submission decision_tree_model_1\n",
      "Saving figure decision_tree_1_coefficients\n"
     ]
    },
    {
     "data": {
      "image/png": "[encoded data removed]",
      "text/plain": [
       "<Figure size 864x576 with 1 Axes>"
      ]
     },
     "metadata": {},
     "output_type": "display_data"
    }
   ],
   "source": [
    "predictors = [x for x in train.columns if x not in [target]+IDcol]\n",
    "alg = DecisionTreeRegressor(max_depth=15, min_samples_leaf=100)\n",
    "modelfit(alg, train, test, predictors, target, IDcol, 'decision_tree_model_1')\n",
    "coef = pd.Series(alg.feature_importances_, predictors).sort_values(ascending=False)\n",
    "coef.plot(kind='bar', title='Feature Importances', figsize=(12, 8))\n",
    "\n",
    "save_fig('decision_tree_1_coefficients')"
   ]
  },
  {
   "cell_type": "markdown",
   "metadata": {},
   "source": [
    "- Here you can see that the RMSE is 1058 and the mean CV error is 1091. This tells us that the model is slightly overfitting. Lets try making a decision tree with just top 4 variables, a max_depth of 8 and min_samples_leaf as 150."
   ]
  },
  {
   "cell_type": "code",
   "execution_count": 36,
   "metadata": {},
   "outputs": [
    {
     "name": "stdout",
     "output_type": "stream",
     "text": [
      "\n",
      "Model Report\n",
      "RMSE : 1071\n",
      "CV Score : Mean - 1096 | Std - 43.3 | Min - 1027 | Max - 1172\n",
      "Saving model decision_tree_model_2\n",
      "Saving submission decision_tree_model_2\n",
      "Saving figure decision_tree_2_coefficients\n"
     ]
    },
    {
     "data": {
      "image/png": "[encoded data removed]",
      "text/plain": [
       "<Figure size 864x576 with 1 Axes>"
      ]
     },
     "metadata": {},
     "output_type": "display_data"
    }
   ],
   "source": [
    "predictors = ['Item_MRP','Outlet_Type_0','Outlet_5','Outlet_Years']\n",
    "alg = DecisionTreeRegressor(max_depth=8, min_samples_leaf=150)\n",
    "modelfit(alg, train, test, predictors, target, IDcol, 'decision_tree_model_2')\n",
    "coef = pd.Series(alg.feature_importances_, predictors).sort_values(ascending=False)\n",
    "coef.plot(kind='bar', title='Feature Importances', figsize=(12, 8))\n",
    "\n",
    "save_fig('decision_tree_2_coefficients')"
   ]
  },
  {
   "cell_type": "markdown",
   "metadata": {},
   "source": [
    "## Random Forest Model"
   ]
  },
  {
   "cell_type": "code",
   "execution_count": 37,
   "metadata": {},
   "outputs": [],
   "source": [
    "from sklearn.ensemble import RandomForestRegressor"
   ]
  },
  {
   "cell_type": "code",
   "execution_count": 38,
   "metadata": {},
   "outputs": [
    {
     "name": "stdout",
     "output_type": "stream",
     "text": [
      "\n",
      "Model Report\n",
      "RMSE : 1073\n",
      "CV Score : Mean - 1084 | Std - 43.52 | Min - 1021 | Max - 1161\n",
      "Saving model random_forest_model_1\n",
      "Saving submission random_forest_model_1\n",
      "Saving figure random_forest_1_coefficients\n"
     ]
    },
    {
     "data": {
      "image/png": "[encoded data removed]",
      "text/plain": [
       "<Figure size 864x576 with 1 Axes>"
      ]
     },
     "metadata": {},
     "output_type": "display_data"
    }
   ],
   "source": [
    "predictors = [x for x in train.columns if x not in [target]+IDcol]\n",
    "alg = RandomForestRegressor(n_estimators=200,max_depth=5, min_samples_leaf=100,n_jobs=4)\n",
    "modelfit(alg, train, test, predictors, target, IDcol, 'random_forest_model_1')\n",
    "coef = pd.Series(alg.feature_importances_, predictors).sort_values(ascending=False)\n",
    "coef.plot(kind='bar', title='Feature Importances', figsize=(12, 8))\n",
    "\n",
    "save_fig('random_forest_1_coefficients')"
   ]
  },
  {
   "cell_type": "markdown",
   "metadata": {},
   "source": [
    "- You might feel this is a very small improvement but as our model gets better, achieving even minute improvements becomes exponentially difficult. Lets try another random forest with max_depth of 6 and 400 trees. Increasing the number of trees makes the model robust but is computationally expensive."
   ]
  },
  {
   "cell_type": "code",
   "execution_count": 39,
   "metadata": {},
   "outputs": [
    {
     "name": "stdout",
     "output_type": "stream",
     "text": [
      "\n",
      "Model Report\n",
      "RMSE : 1068\n",
      "CV Score : Mean - 1083 | Std - 43.65 | Min - 1019 | Max - 1161\n",
      "Saving model random_forest_model_2\n",
      "Saving submission random_forest_model_2\n",
      "Saving figure random_forest_2_coefficients\n"
     ]
    },
    {
     "data": {
      "image/png": "[encoded data removed]",
      "text/plain": [
       "<Figure size 864x576 with 1 Axes>"
      ]
     },
     "metadata": {},
     "output_type": "display_data"
    }
   ],
   "source": [
    "predictors = [x for x in train.columns if x not in [target]+IDcol]\n",
    "alg = RandomForestRegressor(n_estimators=400,max_depth=6, min_samples_leaf=100,n_jobs=4)\n",
    "modelfit(alg, train, test, predictors, target, IDcol, 'random_forest_model_2')\n",
    "coef = pd.Series(alg.feature_importances_, predictors).sort_values(ascending=False)\n",
    "coef.plot(kind='bar', title='Feature Importances', figsize=(12, 8))\n",
    "\n",
    "save_fig('random_forest_2_coefficients')"
   ]
  },
  {
   "cell_type": "markdown",
   "metadata": {},
   "source": [
    "- Again this is an incremental change but will help you get a jump of 5-10 ranks on leaderboard. We try to tune the parameters further to get higher accuracy as well as experiment with GBM and XGBoost and ensembles. "
   ]
  },
  {
   "cell_type": "markdown",
   "metadata": {},
   "source": [
    "# Model Fine-Tuning\n",
    "In order to fine tune our models, we need to test out different hyperparameters using both Grid Search and Randomized Search. We'll create a function that allows us to execute different combinations easily."
   ]
  },
  {
   "cell_type": "markdown",
   "metadata": {},
   "source": [
    "## Function to Perform Grid Search Cross-Validation"
   ]
  },
  {
   "cell_type": "code",
   "execution_count": 56,
   "metadata": {},
   "outputs": [],
   "source": [
    "from sklearn.model_selection import GridSearchCV\n",
    "\n",
    "def model_tune_gridsearch(model_name, alg, hyperparams, cv, dtrain, dtest, predictors, target, IDcol, verbose):\n",
    "    \n",
    "    #Perform GridCV:\n",
    "    grid = GridSearchCV(estimator=alg, cv=cv, param_grid=hyperparams, \n",
    "                        scoring='neg_mean_squared_error', return_train_score=True, verbose=verbose, n_jobs=4)\n",
    "    grid.fit(dtrain[predictors], dtrain[target])\n",
    "    \n",
    "    #Print model report:\n",
    "    print (\"\\nModel Report - \", model_name)\n",
    "    print('-'*len(\"Model Report - \" + model_name))\n",
    "    print(\"Best RMSE Score: {}\".format(np.sqrt(abs(grid.best_score_))))\n",
    "    print(\"Best Parameters: {}\\n\".format(grid.best_params_))\n",
    "    \n",
    "    #Predict on testing data:\n",
    "    dtest[target] = grid.predict(dtest[predictors])\n",
    "    \n",
    "    #Export submission file:\n",
    "    IDcol.append(target)\n",
    "    submission = pd.DataFrame({ x: dtest[x] for x in IDcol})\n",
    "    save_model(submission, model_name)\n",
    "    save_submission(submission, model_name)\n",
    "    \n",
    "    return grid"
   ]
  },
  {
   "cell_type": "markdown",
   "metadata": {},
   "source": [
    "## Function to Perform Random Search Cross-Validation"
   ]
  },
  {
   "cell_type": "code",
   "execution_count": 52,
   "metadata": {},
   "outputs": [],
   "source": [
    "from sklearn.model_selection import RandomizedSearchCV\n",
    "from scipy.stats import expon, reciprocal\n",
    "\n",
    "def model_tune_randomsearch(model_name, alg, hyperparams, cv, n_iter, n_jobs, dtrain, dtest, predictors, target, IDcol, verbose):\n",
    "    \n",
    "    #Perform RandomSearchCV:\n",
    "    rnd_search = RandomizedSearchCV(estimator=alg, cv=cv, param_distributions=hyperparams, \n",
    "                              scoring='neg_mean_squared_error', n_jobs=n_jobs, \n",
    "                                    n_iter=n_iter, verbose=verbose, random_state=42)\n",
    "    rnd_search.fit(dtrain[predictors], dtrain[target])\n",
    "    \n",
    "    #Print model report:\n",
    "    print (\"\\nModel Report - \", model_name)\n",
    "    print('-'*len(\"Model Report - \" + model_name))\n",
    "    print(\"Best RMSE Score: {}\".format(np.sqrt(abs(rnd_search.best_score_))))\n",
    "    print(\"Best Parameters: {}\\n\".format(rnd_search.best_params_))\n",
    "    \n",
    "    #Predict on testing data:\n",
    "    dtest[target] = rnd_search.predict(dtest[predictors])\n",
    "    \n",
    "    #Export submission file:\n",
    "    IDcol.append(target)\n",
    "    submission = pd.DataFrame({ x: dtest[x] for x in IDcol})\n",
    "    save_model(submission, model_name)\n",
    "    save_submission(submission, model_name)\n",
    "    \n",
    "    return rnd_search"
   ]
  },
  {
   "cell_type": "markdown",
   "metadata": {},
   "source": [
    "## Random Forest Grid Search CV"
   ]
  },
  {
   "cell_type": "code",
   "execution_count": 54,
   "metadata": {},
   "outputs": [
    {
     "name": "stdout",
     "output_type": "stream",
     "text": [
      "Fitting 10 folds for each of 18 candidates, totalling 180 fits\n",
      "[CV] max_features=2, n_estimators=3 ..................................\n",
      "[CV] ................... max_features=2, n_estimators=3, total=   0.0s\n",
      "[CV] max_features=2, n_estimators=3 ..................................\n",
      "[CV] ................... max_features=2, n_estimators=3, total=   0.1s\n",
      "[CV] max_features=2, n_estimators=3 ..................................\n",
      "[CV] ................... max_features=2, n_estimators=3, total=   0.0s\n",
      "[CV] max_features=2, n_estimators=3 ..................................\n"
     ]
    },
    {
     "name": "stderr",
     "output_type": "stream",
     "text": [
      "[Parallel(n_jobs=1)]: Done   1 out of   1 | elapsed:    0.1s remaining:    0.0s\n"
     ]
    },
    {
     "name": "stdout",
     "output_type": "stream",
     "text": [
      "[CV] ................... max_features=2, n_estimators=3, total=   0.0s\n",
      "[CV] max_features=2, n_estimators=3 ..................................\n",
      "[CV] ................... max_features=2, n_estimators=3, total=   0.0s\n",
      "[CV] max_features=2, n_estimators=3 ..................................\n",
      "[CV] ................... max_features=2, n_estimators=3, total=   0.0s\n",
      "[CV] max_features=2, n_estimators=3 ..................................\n",
      "[CV] ................... max_features=2, n_estimators=3, total=   0.0s\n",
      "[CV] max_features=2, n_estimators=3 ..................................\n",
      "[CV] ................... max_features=2, n_estimators=3, total=   0.0s\n",
      "[CV] max_features=2, n_estimators=3 ..................................\n",
      "[CV] ................... max_features=2, n_estimators=3, total=   0.0s\n",
      "[CV] max_features=2, n_estimators=3 ..................................\n",
      "[CV] ................... max_features=2, n_estimators=3, total=   0.0s\n",
      "[CV] max_features=2, n_estimators=10 .................................\n",
      "[CV] .................. max_features=2, n_estimators=10, total=   0.1s\n",
      "[CV] max_features=2, n_estimators=10 .................................\n",
      "[CV] .................. max_features=2, n_estimators=10, total=   0.2s\n",
      "[CV] max_features=2, n_estimators=10 .................................\n",
      "[CV] .................. max_features=2, n_estimators=10, total=   0.1s\n",
      "[CV] max_features=2, n_estimators=10 .................................\n",
      "[CV] .................. max_features=2, n_estimators=10, total=   0.1s\n",
      "[CV] max_features=2, n_estimators=10 .................................\n",
      "[CV] .................. max_features=2, n_estimators=10, total=   0.1s\n",
      "[CV] max_features=2, n_estimators=10 .................................\n",
      "[CV] .................. max_features=2, n_estimators=10, total=   0.1s\n",
      "[CV] max_features=2, n_estimators=10 .................................\n",
      "[CV] .................. max_features=2, n_estimators=10, total=   0.1s\n",
      "[CV] max_features=2, n_estimators=10 .................................\n",
      "[CV] .................. max_features=2, n_estimators=10, total=   0.1s\n",
      "[CV] max_features=2, n_estimators=10 .................................\n",
      "[CV] .................. max_features=2, n_estimators=10, total=   0.1s\n",
      "[CV] max_features=2, n_estimators=10 .................................\n",
      "[CV] .................. max_features=2, n_estimators=10, total=   0.1s\n",
      "[CV] max_features=2, n_estimators=30 .................................\n",
      "[CV] .................. max_features=2, n_estimators=30, total=   0.4s\n",
      "[CV] max_features=2, n_estimators=30 .................................\n",
      "[CV] .................. max_features=2, n_estimators=30, total=   0.4s\n",
      "[CV] max_features=2, n_estimators=30 .................................\n",
      "[CV] .................. max_features=2, n_estimators=30, total=   0.4s\n",
      "[CV] max_features=2, n_estimators=30 .................................\n",
      "[CV] .................. max_features=2, n_estimators=30, total=   0.4s\n",
      "[CV] max_features=2, n_estimators=30 .................................\n",
      "[CV] .................. max_features=2, n_estimators=30, total=   0.3s\n",
      "[CV] max_features=2, n_estimators=30 .................................\n",
      "[CV] .................. max_features=2, n_estimators=30, total=   0.3s\n",
      "[CV] max_features=2, n_estimators=30 .................................\n",
      "[CV] .................. max_features=2, n_estimators=30, total=   0.3s\n",
      "[CV] max_features=2, n_estimators=30 .................................\n",
      "[CV] .................. max_features=2, n_estimators=30, total=   0.3s\n",
      "[CV] max_features=2, n_estimators=30 .................................\n",
      "[CV] .................. max_features=2, n_estimators=30, total=   0.3s\n",
      "[CV] max_features=2, n_estimators=30 .................................\n",
      "[CV] .................. max_features=2, n_estimators=30, total=   0.4s\n",
      "[CV] max_features=4, n_estimators=3 ..................................\n",
      "[CV] ................... max_features=4, n_estimators=3, total=   0.1s\n",
      "[CV] max_features=4, n_estimators=3 ..................................\n",
      "[CV] ................... max_features=4, n_estimators=3, total=   0.1s\n",
      "[CV] max_features=4, n_estimators=3 ..................................\n",
      "[CV] ................... max_features=4, n_estimators=3, total=   0.0s\n",
      "[CV] max_features=4, n_estimators=3 ..................................\n",
      "[CV] ................... max_features=4, n_estimators=3, total=   0.0s\n",
      "[CV] max_features=4, n_estimators=3 ..................................\n",
      "[CV] ................... max_features=4, n_estimators=3, total=   0.1s\n",
      "[CV] max_features=4, n_estimators=3 ..................................\n",
      "[CV] ................... max_features=4, n_estimators=3, total=   0.1s\n",
      "[CV] max_features=4, n_estimators=3 ..................................\n",
      "[CV] ................... max_features=4, n_estimators=3, total=   0.1s\n",
      "[CV] max_features=4, n_estimators=3 ..................................\n",
      "[CV] ................... max_features=4, n_estimators=3, total=   0.1s\n",
      "[CV] max_features=4, n_estimators=3 ..................................\n",
      "[CV] ................... max_features=4, n_estimators=3, total=   0.1s\n",
      "[CV] max_features=4, n_estimators=3 ..................................\n",
      "[CV] ................... max_features=4, n_estimators=3, total=   0.1s\n",
      "[CV] max_features=4, n_estimators=10 .................................\n",
      "[CV] .................. max_features=4, n_estimators=10, total=   0.2s\n",
      "[CV] max_features=4, n_estimators=10 .................................\n",
      "[CV] .................. max_features=4, n_estimators=10, total=   0.1s\n",
      "[CV] max_features=4, n_estimators=10 .................................\n",
      "[CV] .................. max_features=4, n_estimators=10, total=   0.1s\n",
      "[CV] max_features=4, n_estimators=10 .................................\n",
      "[CV] .................. max_features=4, n_estimators=10, total=   0.1s\n",
      "[CV] max_features=4, n_estimators=10 .................................\n",
      "[CV] .................. max_features=4, n_estimators=10, total=   0.2s\n",
      "[CV] max_features=4, n_estimators=10 .................................\n",
      "[CV] .................. max_features=4, n_estimators=10, total=   0.1s\n",
      "[CV] max_features=4, n_estimators=10 .................................\n",
      "[CV] .................. max_features=4, n_estimators=10, total=   0.1s\n",
      "[CV] max_features=4, n_estimators=10 .................................\n",
      "[CV] .................. max_features=4, n_estimators=10, total=   0.1s\n",
      "[CV] max_features=4, n_estimators=10 .................................\n",
      "[CV] .................. max_features=4, n_estimators=10, total=   0.1s\n",
      "[CV] max_features=4, n_estimators=10 .................................\n",
      "[CV] .................. max_features=4, n_estimators=10, total=   0.1s\n",
      "[CV] max_features=4, n_estimators=30 .................................\n",
      "[CV] .................. max_features=4, n_estimators=30, total=   0.4s\n",
      "[CV] max_features=4, n_estimators=30 .................................\n",
      "[CV] .................. max_features=4, n_estimators=30, total=   0.4s\n",
      "[CV] max_features=4, n_estimators=30 .................................\n",
      "[CV] .................. max_features=4, n_estimators=30, total=   0.4s\n",
      "[CV] max_features=4, n_estimators=30 .................................\n",
      "[CV] .................. max_features=4, n_estimators=30, total=   0.4s\n",
      "[CV] max_features=4, n_estimators=30 .................................\n",
      "[CV] .................. max_features=4, n_estimators=30, total=   0.5s\n",
      "[CV] max_features=4, n_estimators=30 .................................\n",
      "[CV] .................. max_features=4, n_estimators=30, total=   0.5s\n",
      "[CV] max_features=4, n_estimators=30 .................................\n",
      "[CV] .................. max_features=4, n_estimators=30, total=   0.5s\n",
      "[CV] max_features=4, n_estimators=30 .................................\n",
      "[CV] .................. max_features=4, n_estimators=30, total=   0.4s\n",
      "[CV] max_features=4, n_estimators=30 .................................\n",
      "[CV] .................. max_features=4, n_estimators=30, total=   0.4s\n",
      "[CV] max_features=4, n_estimators=30 .................................\n",
      "[CV] .................. max_features=4, n_estimators=30, total=   0.4s\n",
      "[CV] max_features=6, n_estimators=3 ..................................\n",
      "[CV] ................... max_features=6, n_estimators=3, total=   0.0s\n",
      "[CV] max_features=6, n_estimators=3 ..................................\n",
      "[CV] ................... max_features=6, n_estimators=3, total=   0.0s\n",
      "[CV] max_features=6, n_estimators=3 ..................................\n",
      "[CV] ................... max_features=6, n_estimators=3, total=   0.0s\n",
      "[CV] max_features=6, n_estimators=3 ..................................\n"
     ]
    },
    {
     "name": "stdout",
     "output_type": "stream",
     "text": [
      "[CV] ................... max_features=6, n_estimators=3, total=   0.0s\n",
      "[CV] max_features=6, n_estimators=3 ..................................\n",
      "[CV] ................... max_features=6, n_estimators=3, total=   0.0s\n",
      "[CV] max_features=6, n_estimators=3 ..................................\n",
      "[CV] ................... max_features=6, n_estimators=3, total=   0.0s\n",
      "[CV] max_features=6, n_estimators=3 ..................................\n",
      "[CV] ................... max_features=6, n_estimators=3, total=   0.0s\n",
      "[CV] max_features=6, n_estimators=3 ..................................\n",
      "[CV] ................... max_features=6, n_estimators=3, total=   0.0s\n",
      "[CV] max_features=6, n_estimators=3 ..................................\n",
      "[CV] ................... max_features=6, n_estimators=3, total=   0.1s\n",
      "[CV] max_features=6, n_estimators=3 ..................................\n",
      "[CV] ................... max_features=6, n_estimators=3, total=   0.0s\n",
      "[CV] max_features=6, n_estimators=10 .................................\n",
      "[CV] .................. max_features=6, n_estimators=10, total=   0.2s\n",
      "[CV] max_features=6, n_estimators=10 .................................\n",
      "[CV] .................. max_features=6, n_estimators=10, total=   0.2s\n",
      "[CV] max_features=6, n_estimators=10 .................................\n",
      "[CV] .................. max_features=6, n_estimators=10, total=   0.2s\n",
      "[CV] max_features=6, n_estimators=10 .................................\n",
      "[CV] .................. max_features=6, n_estimators=10, total=   0.2s\n",
      "[CV] max_features=6, n_estimators=10 .................................\n",
      "[CV] .................. max_features=6, n_estimators=10, total=   0.2s\n",
      "[CV] max_features=6, n_estimators=10 .................................\n",
      "[CV] .................. max_features=6, n_estimators=10, total=   0.2s\n",
      "[CV] max_features=6, n_estimators=10 .................................\n",
      "[CV] .................. max_features=6, n_estimators=10, total=   0.2s\n",
      "[CV] max_features=6, n_estimators=10 .................................\n",
      "[CV] .................. max_features=6, n_estimators=10, total=   0.2s\n",
      "[CV] max_features=6, n_estimators=10 .................................\n",
      "[CV] .................. max_features=6, n_estimators=10, total=   0.2s\n",
      "[CV] max_features=6, n_estimators=10 .................................\n",
      "[CV] .................. max_features=6, n_estimators=10, total=   0.2s\n",
      "[CV] max_features=6, n_estimators=30 .................................\n",
      "[CV] .................. max_features=6, n_estimators=30, total=   0.6s\n",
      "[CV] max_features=6, n_estimators=30 .................................\n",
      "[CV] .................. max_features=6, n_estimators=30, total=   0.6s\n",
      "[CV] max_features=6, n_estimators=30 .................................\n",
      "[CV] .................. max_features=6, n_estimators=30, total=   0.5s\n",
      "[CV] max_features=6, n_estimators=30 .................................\n",
      "[CV] .................. max_features=6, n_estimators=30, total=   0.5s\n",
      "[CV] max_features=6, n_estimators=30 .................................\n",
      "[CV] .................. max_features=6, n_estimators=30, total=   0.5s\n",
      "[CV] max_features=6, n_estimators=30 .................................\n",
      "[CV] .................. max_features=6, n_estimators=30, total=   0.5s\n",
      "[CV] max_features=6, n_estimators=30 .................................\n",
      "[CV] .................. max_features=6, n_estimators=30, total=   0.6s\n",
      "[CV] max_features=6, n_estimators=30 .................................\n",
      "[CV] .................. max_features=6, n_estimators=30, total=   0.5s\n",
      "[CV] max_features=6, n_estimators=30 .................................\n",
      "[CV] .................. max_features=6, n_estimators=30, total=   0.4s\n",
      "[CV] max_features=6, n_estimators=30 .................................\n",
      "[CV] .................. max_features=6, n_estimators=30, total=   0.5s\n",
      "[CV] max_features=8, n_estimators=3 ..................................\n",
      "[CV] ................... max_features=8, n_estimators=3, total=   0.1s\n",
      "[CV] max_features=8, n_estimators=3 ..................................\n",
      "[CV] ................... max_features=8, n_estimators=3, total=   0.1s\n",
      "[CV] max_features=8, n_estimators=3 ..................................\n",
      "[CV] ................... max_features=8, n_estimators=3, total=   0.1s\n",
      "[CV] max_features=8, n_estimators=3 ..................................\n",
      "[CV] ................... max_features=8, n_estimators=3, total=   0.1s\n",
      "[CV] max_features=8, n_estimators=3 ..................................\n",
      "[CV] ................... max_features=8, n_estimators=3, total=   0.1s\n",
      "[CV] max_features=8, n_estimators=3 ..................................\n",
      "[CV] ................... max_features=8, n_estimators=3, total=   0.1s\n",
      "[CV] max_features=8, n_estimators=3 ..................................\n",
      "[CV] ................... max_features=8, n_estimators=3, total=   0.1s\n",
      "[CV] max_features=8, n_estimators=3 ..................................\n",
      "[CV] ................... max_features=8, n_estimators=3, total=   0.1s\n",
      "[CV] max_features=8, n_estimators=3 ..................................\n",
      "[CV] ................... max_features=8, n_estimators=3, total=   0.1s\n",
      "[CV] max_features=8, n_estimators=3 ..................................\n",
      "[CV] ................... max_features=8, n_estimators=3, total=   0.1s\n",
      "[CV] max_features=8, n_estimators=10 .................................\n",
      "[CV] .................. max_features=8, n_estimators=10, total=   0.2s\n",
      "[CV] max_features=8, n_estimators=10 .................................\n",
      "[CV] .................. max_features=8, n_estimators=10, total=   0.2s\n",
      "[CV] max_features=8, n_estimators=10 .................................\n",
      "[CV] .................. max_features=8, n_estimators=10, total=   0.2s\n",
      "[CV] max_features=8, n_estimators=10 .................................\n",
      "[CV] .................. max_features=8, n_estimators=10, total=   0.2s\n",
      "[CV] max_features=8, n_estimators=10 .................................\n",
      "[CV] .................. max_features=8, n_estimators=10, total=   0.2s\n",
      "[CV] max_features=8, n_estimators=10 .................................\n",
      "[CV] .................. max_features=8, n_estimators=10, total=   0.2s\n",
      "[CV] max_features=8, n_estimators=10 .................................\n",
      "[CV] .................. max_features=8, n_estimators=10, total=   0.2s\n",
      "[CV] max_features=8, n_estimators=10 .................................\n",
      "[CV] .................. max_features=8, n_estimators=10, total=   0.2s\n",
      "[CV] max_features=8, n_estimators=10 .................................\n",
      "[CV] .................. max_features=8, n_estimators=10, total=   0.2s\n",
      "[CV] max_features=8, n_estimators=10 .................................\n",
      "[CV] .................. max_features=8, n_estimators=10, total=   0.2s\n",
      "[CV] max_features=8, n_estimators=30 .................................\n",
      "[CV] .................. max_features=8, n_estimators=30, total=   0.5s\n",
      "[CV] max_features=8, n_estimators=30 .................................\n",
      "[CV] .................. max_features=8, n_estimators=30, total=   0.5s\n",
      "[CV] max_features=8, n_estimators=30 .................................\n",
      "[CV] .................. max_features=8, n_estimators=30, total=   0.5s\n",
      "[CV] max_features=8, n_estimators=30 .................................\n",
      "[CV] .................. max_features=8, n_estimators=30, total=   0.5s\n",
      "[CV] max_features=8, n_estimators=30 .................................\n",
      "[CV] .................. max_features=8, n_estimators=30, total=   0.5s\n",
      "[CV] max_features=8, n_estimators=30 .................................\n",
      "[CV] .................. max_features=8, n_estimators=30, total=   0.5s\n",
      "[CV] max_features=8, n_estimators=30 .................................\n",
      "[CV] .................. max_features=8, n_estimators=30, total=   0.5s\n",
      "[CV] max_features=8, n_estimators=30 .................................\n",
      "[CV] .................. max_features=8, n_estimators=30, total=   0.6s\n",
      "[CV] max_features=8, n_estimators=30 .................................\n",
      "[CV] .................. max_features=8, n_estimators=30, total=   0.7s\n",
      "[CV] max_features=8, n_estimators=30 .................................\n",
      "[CV] .................. max_features=8, n_estimators=30, total=   0.6s\n",
      "[CV] bootstrap=False, max_features=2, n_estimators=3 .................\n",
      "[CV] .. bootstrap=False, max_features=2, n_estimators=3, total=   0.1s\n",
      "[CV] bootstrap=False, max_features=2, n_estimators=3 .................\n",
      "[CV] .. bootstrap=False, max_features=2, n_estimators=3, total=   0.1s\n",
      "[CV] bootstrap=False, max_features=2, n_estimators=3 .................\n"
     ]
    },
    {
     "name": "stdout",
     "output_type": "stream",
     "text": [
      "[CV] .. bootstrap=False, max_features=2, n_estimators=3, total=   0.1s\n",
      "[CV] bootstrap=False, max_features=2, n_estimators=3 .................\n",
      "[CV] .. bootstrap=False, max_features=2, n_estimators=3, total=   0.1s\n",
      "[CV] bootstrap=False, max_features=2, n_estimators=3 .................\n",
      "[CV] .. bootstrap=False, max_features=2, n_estimators=3, total=   0.1s\n",
      "[CV] bootstrap=False, max_features=2, n_estimators=3 .................\n",
      "[CV] .. bootstrap=False, max_features=2, n_estimators=3, total=   0.1s\n",
      "[CV] bootstrap=False, max_features=2, n_estimators=3 .................\n",
      "[CV] .. bootstrap=False, max_features=2, n_estimators=3, total=   0.1s\n",
      "[CV] bootstrap=False, max_features=2, n_estimators=3 .................\n",
      "[CV] .. bootstrap=False, max_features=2, n_estimators=3, total=   0.0s\n",
      "[CV] bootstrap=False, max_features=2, n_estimators=3 .................\n",
      "[CV] .. bootstrap=False, max_features=2, n_estimators=3, total=   0.1s\n",
      "[CV] bootstrap=False, max_features=2, n_estimators=3 .................\n",
      "[CV] .. bootstrap=False, max_features=2, n_estimators=3, total=   0.1s\n",
      "[CV] bootstrap=False, max_features=2, n_estimators=10 ................\n",
      "[CV] . bootstrap=False, max_features=2, n_estimators=10, total=   0.2s\n",
      "[CV] bootstrap=False, max_features=2, n_estimators=10 ................\n",
      "[CV] . bootstrap=False, max_features=2, n_estimators=10, total=   0.2s\n",
      "[CV] bootstrap=False, max_features=2, n_estimators=10 ................\n",
      "[CV] . bootstrap=False, max_features=2, n_estimators=10, total=   0.2s\n",
      "[CV] bootstrap=False, max_features=2, n_estimators=10 ................\n",
      "[CV] . bootstrap=False, max_features=2, n_estimators=10, total=   0.2s\n",
      "[CV] bootstrap=False, max_features=2, n_estimators=10 ................\n",
      "[CV] . bootstrap=False, max_features=2, n_estimators=10, total=   0.2s\n",
      "[CV] bootstrap=False, max_features=2, n_estimators=10 ................\n",
      "[CV] . bootstrap=False, max_features=2, n_estimators=10, total=   0.2s\n",
      "[CV] bootstrap=False, max_features=2, n_estimators=10 ................\n",
      "[CV] . bootstrap=False, max_features=2, n_estimators=10, total=   0.2s\n",
      "[CV] bootstrap=False, max_features=2, n_estimators=10 ................\n",
      "[CV] . bootstrap=False, max_features=2, n_estimators=10, total=   0.2s\n",
      "[CV] bootstrap=False, max_features=2, n_estimators=10 ................\n",
      "[CV] . bootstrap=False, max_features=2, n_estimators=10, total=   0.2s\n",
      "[CV] bootstrap=False, max_features=2, n_estimators=10 ................\n",
      "[CV] . bootstrap=False, max_features=2, n_estimators=10, total=   0.2s\n",
      "[CV] bootstrap=False, max_features=3, n_estimators=3 .................\n",
      "[CV] .. bootstrap=False, max_features=3, n_estimators=3, total=   0.1s\n",
      "[CV] bootstrap=False, max_features=3, n_estimators=3 .................\n",
      "[CV] .. bootstrap=False, max_features=3, n_estimators=3, total=   0.1s\n",
      "[CV] bootstrap=False, max_features=3, n_estimators=3 .................\n",
      "[CV] .. bootstrap=False, max_features=3, n_estimators=3, total=   0.1s\n",
      "[CV] bootstrap=False, max_features=3, n_estimators=3 .................\n",
      "[CV] .. bootstrap=False, max_features=3, n_estimators=3, total=   0.1s\n",
      "[CV] bootstrap=False, max_features=3, n_estimators=3 .................\n",
      "[CV] .. bootstrap=False, max_features=3, n_estimators=3, total=   0.1s\n",
      "[CV] bootstrap=False, max_features=3, n_estimators=3 .................\n",
      "[CV] .. bootstrap=False, max_features=3, n_estimators=3, total=   0.1s\n",
      "[CV] bootstrap=False, max_features=3, n_estimators=3 .................\n",
      "[CV] .. bootstrap=False, max_features=3, n_estimators=3, total=   0.1s\n",
      "[CV] bootstrap=False, max_features=3, n_estimators=3 .................\n",
      "[CV] .. bootstrap=False, max_features=3, n_estimators=3, total=   0.1s\n",
      "[CV] bootstrap=False, max_features=3, n_estimators=3 .................\n",
      "[CV] .. bootstrap=False, max_features=3, n_estimators=3, total=   0.1s\n",
      "[CV] bootstrap=False, max_features=3, n_estimators=3 .................\n",
      "[CV] .. bootstrap=False, max_features=3, n_estimators=3, total=   0.1s\n",
      "[CV] bootstrap=False, max_features=3, n_estimators=10 ................\n",
      "[CV] . bootstrap=False, max_features=3, n_estimators=10, total=   0.2s\n",
      "[CV] bootstrap=False, max_features=3, n_estimators=10 ................\n",
      "[CV] . bootstrap=False, max_features=3, n_estimators=10, total=   0.2s\n",
      "[CV] bootstrap=False, max_features=3, n_estimators=10 ................\n",
      "[CV] . bootstrap=False, max_features=3, n_estimators=10, total=   0.2s\n",
      "[CV] bootstrap=False, max_features=3, n_estimators=10 ................\n",
      "[CV] . bootstrap=False, max_features=3, n_estimators=10, total=   0.2s\n",
      "[CV] bootstrap=False, max_features=3, n_estimators=10 ................\n",
      "[CV] . bootstrap=False, max_features=3, n_estimators=10, total=   0.2s\n",
      "[CV] bootstrap=False, max_features=3, n_estimators=10 ................\n",
      "[CV] . bootstrap=False, max_features=3, n_estimators=10, total=   0.2s\n",
      "[CV] bootstrap=False, max_features=3, n_estimators=10 ................\n",
      "[CV] . bootstrap=False, max_features=3, n_estimators=10, total=   0.2s\n",
      "[CV] bootstrap=False, max_features=3, n_estimators=10 ................\n",
      "[CV] . bootstrap=False, max_features=3, n_estimators=10, total=   0.2s\n",
      "[CV] bootstrap=False, max_features=3, n_estimators=10 ................\n",
      "[CV] . bootstrap=False, max_features=3, n_estimators=10, total=   0.2s\n",
      "[CV] bootstrap=False, max_features=3, n_estimators=10 ................\n",
      "[CV] . bootstrap=False, max_features=3, n_estimators=10, total=   0.2s\n",
      "[CV] bootstrap=False, max_features=4, n_estimators=3 .................\n",
      "[CV] .. bootstrap=False, max_features=4, n_estimators=3, total=   0.1s\n",
      "[CV] bootstrap=False, max_features=4, n_estimators=3 .................\n",
      "[CV] .. bootstrap=False, max_features=4, n_estimators=3, total=   0.1s\n",
      "[CV] bootstrap=False, max_features=4, n_estimators=3 .................\n",
      "[CV] .. bootstrap=False, max_features=4, n_estimators=3, total=   0.1s\n",
      "[CV] bootstrap=False, max_features=4, n_estimators=3 .................\n",
      "[CV] .. bootstrap=False, max_features=4, n_estimators=3, total=   0.1s\n",
      "[CV] bootstrap=False, max_features=4, n_estimators=3 .................\n",
      "[CV] .. bootstrap=False, max_features=4, n_estimators=3, total=   0.1s\n",
      "[CV] bootstrap=False, max_features=4, n_estimators=3 .................\n",
      "[CV] .. bootstrap=False, max_features=4, n_estimators=3, total=   0.1s\n",
      "[CV] bootstrap=False, max_features=4, n_estimators=3 .................\n",
      "[CV] .. bootstrap=False, max_features=4, n_estimators=3, total=   0.1s\n",
      "[CV] bootstrap=False, max_features=4, n_estimators=3 .................\n",
      "[CV] .. bootstrap=False, max_features=4, n_estimators=3, total=   0.1s\n",
      "[CV] bootstrap=False, max_features=4, n_estimators=3 .................\n",
      "[CV] .. bootstrap=False, max_features=4, n_estimators=3, total=   0.1s\n",
      "[CV] bootstrap=False, max_features=4, n_estimators=3 .................\n",
      "[CV] .. bootstrap=False, max_features=4, n_estimators=3, total=   0.1s\n",
      "[CV] bootstrap=False, max_features=4, n_estimators=10 ................\n",
      "[CV] . bootstrap=False, max_features=4, n_estimators=10, total=   0.2s\n",
      "[CV] bootstrap=False, max_features=4, n_estimators=10 ................\n",
      "[CV] . bootstrap=False, max_features=4, n_estimators=10, total=   0.2s\n",
      "[CV] bootstrap=False, max_features=4, n_estimators=10 ................\n",
      "[CV] . bootstrap=False, max_features=4, n_estimators=10, total=   0.2s\n",
      "[CV] bootstrap=False, max_features=4, n_estimators=10 ................\n",
      "[CV] . bootstrap=False, max_features=4, n_estimators=10, total=   0.2s\n",
      "[CV] bootstrap=False, max_features=4, n_estimators=10 ................\n",
      "[CV] . bootstrap=False, max_features=4, n_estimators=10, total=   0.2s\n",
      "[CV] bootstrap=False, max_features=4, n_estimators=10 ................\n",
      "[CV] . bootstrap=False, max_features=4, n_estimators=10, total=   0.2s\n",
      "[CV] bootstrap=False, max_features=4, n_estimators=10 ................\n",
      "[CV] . bootstrap=False, max_features=4, n_estimators=10, total=   0.2s\n",
      "[CV] bootstrap=False, max_features=4, n_estimators=10 ................\n",
      "[CV] . bootstrap=False, max_features=4, n_estimators=10, total=   0.2s\n",
      "[CV] bootstrap=False, max_features=4, n_estimators=10 ................\n",
      "[CV] . bootstrap=False, max_features=4, n_estimators=10, total=   0.3s\n",
      "[CV] bootstrap=False, max_features=4, n_estimators=10 ................\n",
      "[CV] . bootstrap=False, max_features=4, n_estimators=10, total=   0.2s\n"
     ]
    },
    {
     "name": "stderr",
     "output_type": "stream",
     "text": [
      "[Parallel(n_jobs=1)]: Done 180 out of 180 | elapsed:   39.9s finished\n"
     ]
    },
    {
     "name": "stdout",
     "output_type": "stream",
     "text": [
      "\n",
      "Model Report -  random_forest_gridcv_1\n",
      "-------------------------------------\n",
      "Best RMSE Score: 1138.570241646363\n",
      "Best Parameters: {'max_features': 6, 'n_estimators': 30}\n",
      "\n",
      "Saving model random_forest_gridcv_1\n",
      "Saving submission random_forest_gridcv_1\n",
      "Saving figure random_forest_1_coefficients\n"
     ]
    },
    {
     "data": {
      "image/png": "[encoded data removed]",
      "text/plain": [
       "<Figure size 864x576 with 1 Axes>"
      ]
     },
     "metadata": {},
     "output_type": "display_data"
    }
   ],
   "source": [
    "predictors = [x for x in train.columns if x not in [target]+IDcol]\n",
    "hyperparameters = [\n",
    "    {'n_estimators': [3, 10, 30], 'max_features': [2, 4, 6, 8]},\n",
    "    {'bootstrap': [False], 'n_estimators': [3, 10], 'max_features': [2, 3, 4]},\n",
    "  ]\n",
    "\n",
    "alg = RandomForestRegressor(random_state=42)\n",
    "grid = model_tune_gridsearch(\"random_forest_gridcv_1\", alg, hyperparameters, 10, \n",
    "                             train, test, predictors, target, IDcol, 2)\n",
    "coef = pd.Series(grid.best_estimator_.feature_importances_, predictors).sort_values(ascending=False)\n",
    "coef.plot(kind='bar', title='Feature Importances', figsize=(12, 8))\n",
    "\n",
    "save_fig('random_forest_1_coefficients')"
   ]
  },
  {
   "cell_type": "code",
   "execution_count": 57,
   "metadata": {
    "scrolled": false
   },
   "outputs": [
    {
     "name": "stdout",
     "output_type": "stream",
     "text": [
      "Fitting 10 folds for each of 1 candidates, totalling 10 fits\n",
      "[CV] max_features=6, n_estimators=4500 ...............................\n",
      "[CV] max_features=6, n_estimators=4500 ...............................\n",
      "[CV] max_features=6, n_estimators=4500 ...............................\n",
      "[CV] max_features=6, n_estimators=4500 ...............................\n"
     ]
    },
    {
     "ename": "KeyboardInterrupt",
     "evalue": "",
     "output_type": "error",
     "traceback": [
      "\u001b[0;31m-----------------------------------------------------------------\u001b[0m",
      "\u001b[0;31mKeyboardInterrupt\u001b[0m               Traceback (most recent call last)",
      "\u001b[0;32m<ipython-input-57-a1bcd12b7cc7>\u001b[0m in \u001b[0;36m<module>\u001b[0;34m()\u001b[0m\n\u001b[1;32m      6\u001b[0m \u001b[0malg\u001b[0m \u001b[0;34m=\u001b[0m \u001b[0mRandomForestRegressor\u001b[0m\u001b[0;34m(\u001b[0m\u001b[0mrandom_state\u001b[0m\u001b[0;34m=\u001b[0m\u001b[0;36m42\u001b[0m\u001b[0;34m)\u001b[0m\u001b[0;34m\u001b[0m\u001b[0m\n\u001b[1;32m      7\u001b[0m grid = model_tune_gridsearch(\"random_forest_gridcv_2\", alg, hyperparameters, 10, \n\u001b[0;32m----> 8\u001b[0;31m                              train, test, predictors, target, IDcol, 2)\n\u001b[0m\u001b[1;32m      9\u001b[0m \u001b[0mcoef\u001b[0m \u001b[0;34m=\u001b[0m \u001b[0mpd\u001b[0m\u001b[0;34m.\u001b[0m\u001b[0mSeries\u001b[0m\u001b[0;34m(\u001b[0m\u001b[0mgrid\u001b[0m\u001b[0;34m.\u001b[0m\u001b[0mbest_estimator_\u001b[0m\u001b[0;34m.\u001b[0m\u001b[0mfeature_importances_\u001b[0m\u001b[0;34m,\u001b[0m \u001b[0mpredictors\u001b[0m\u001b[0;34m)\u001b[0m\u001b[0;34m.\u001b[0m\u001b[0msort_values\u001b[0m\u001b[0;34m(\u001b[0m\u001b[0mascending\u001b[0m\u001b[0;34m=\u001b[0m\u001b[0;32mFalse\u001b[0m\u001b[0;34m)\u001b[0m\u001b[0;34m\u001b[0m\u001b[0m\n\u001b[1;32m     10\u001b[0m \u001b[0mcoef\u001b[0m\u001b[0;34m.\u001b[0m\u001b[0mplot\u001b[0m\u001b[0;34m(\u001b[0m\u001b[0mkind\u001b[0m\u001b[0;34m=\u001b[0m\u001b[0;34m'bar'\u001b[0m\u001b[0;34m,\u001b[0m \u001b[0mtitle\u001b[0m\u001b[0;34m=\u001b[0m\u001b[0;34m'Feature Importances'\u001b[0m\u001b[0;34m,\u001b[0m \u001b[0mfigsize\u001b[0m\u001b[0;34m=\u001b[0m\u001b[0;34m(\u001b[0m\u001b[0;36m12\u001b[0m\u001b[0;34m,\u001b[0m \u001b[0;36m8\u001b[0m\u001b[0;34m)\u001b[0m\u001b[0;34m)\u001b[0m\u001b[0;34m\u001b[0m\u001b[0m\n",
      "\u001b[0;32m<ipython-input-56-ddc57a8df979>\u001b[0m in \u001b[0;36mmodel_tune_gridsearch\u001b[0;34m(model_name, alg, hyperparams, cv, dtrain, dtest, predictors, target, IDcol, verbose)\u001b[0m\n\u001b[1;32m      6\u001b[0m     grid = GridSearchCV(estimator=alg, cv=cv, param_grid=hyperparams, \n\u001b[1;32m      7\u001b[0m                         scoring='neg_mean_squared_error', return_train_score=True, verbose=verbose, n_jobs=4)\n\u001b[0;32m----> 8\u001b[0;31m     \u001b[0mgrid\u001b[0m\u001b[0;34m.\u001b[0m\u001b[0mfit\u001b[0m\u001b[0;34m(\u001b[0m\u001b[0mdtrain\u001b[0m\u001b[0;34m[\u001b[0m\u001b[0mpredictors\u001b[0m\u001b[0;34m]\u001b[0m\u001b[0;34m,\u001b[0m \u001b[0mdtrain\u001b[0m\u001b[0;34m[\u001b[0m\u001b[0mtarget\u001b[0m\u001b[0;34m]\u001b[0m\u001b[0;34m)\u001b[0m\u001b[0;34m\u001b[0m\u001b[0m\n\u001b[0m\u001b[1;32m      9\u001b[0m \u001b[0;34m\u001b[0m\u001b[0m\n\u001b[1;32m     10\u001b[0m     \u001b[0;31m#Print model report:\u001b[0m\u001b[0;34m\u001b[0m\u001b[0;34m\u001b[0m\u001b[0m\n",
      "\u001b[0;32m~/anaconda3/lib/python3.6/site-packages/sklearn/model_selection/_search.py\u001b[0m in \u001b[0;36mfit\u001b[0;34m(self, X, y, groups, **fit_params)\u001b[0m\n\u001b[1;32m    637\u001b[0m                                   error_score=self.error_score)\n\u001b[1;32m    638\u001b[0m           for parameters, (train, test) in product(candidate_params,\n\u001b[0;32m--> 639\u001b[0;31m                                                    cv.split(X, y, groups)))\n\u001b[0m\u001b[1;32m    640\u001b[0m \u001b[0;34m\u001b[0m\u001b[0m\n\u001b[1;32m    641\u001b[0m         \u001b[0;31m# if one choose to see train score, \"out\" will contain train score info\u001b[0m\u001b[0;34m\u001b[0m\u001b[0;34m\u001b[0m\u001b[0m\n",
      "\u001b[0;32m~/anaconda3/lib/python3.6/site-packages/sklearn/externals/joblib/parallel.py\u001b[0m in \u001b[0;36m__call__\u001b[0;34m(self, iterable)\u001b[0m\n\u001b[1;32m    787\u001b[0m                 \u001b[0;31m# consumption.\u001b[0m\u001b[0;34m\u001b[0m\u001b[0;34m\u001b[0m\u001b[0m\n\u001b[1;32m    788\u001b[0m                 \u001b[0mself\u001b[0m\u001b[0;34m.\u001b[0m\u001b[0m_iterating\u001b[0m \u001b[0;34m=\u001b[0m \u001b[0;32mFalse\u001b[0m\u001b[0;34m\u001b[0m\u001b[0m\n\u001b[0;32m--> 789\u001b[0;31m             \u001b[0mself\u001b[0m\u001b[0;34m.\u001b[0m\u001b[0mretrieve\u001b[0m\u001b[0;34m(\u001b[0m\u001b[0;34m)\u001b[0m\u001b[0;34m\u001b[0m\u001b[0m\n\u001b[0m\u001b[1;32m    790\u001b[0m             \u001b[0;31m# Make sure that we get a last message telling us we are done\u001b[0m\u001b[0;34m\u001b[0m\u001b[0;34m\u001b[0m\u001b[0m\n\u001b[1;32m    791\u001b[0m             \u001b[0melapsed_time\u001b[0m \u001b[0;34m=\u001b[0m \u001b[0mtime\u001b[0m\u001b[0;34m.\u001b[0m\u001b[0mtime\u001b[0m\u001b[0;34m(\u001b[0m\u001b[0;34m)\u001b[0m \u001b[0;34m-\u001b[0m \u001b[0mself\u001b[0m\u001b[0;34m.\u001b[0m\u001b[0m_start_time\u001b[0m\u001b[0;34m\u001b[0m\u001b[0m\n",
      "\u001b[0;32m~/anaconda3/lib/python3.6/site-packages/sklearn/externals/joblib/parallel.py\u001b[0m in \u001b[0;36mretrieve\u001b[0;34m(self)\u001b[0m\n\u001b[1;32m    697\u001b[0m             \u001b[0;32mtry\u001b[0m\u001b[0;34m:\u001b[0m\u001b[0;34m\u001b[0m\u001b[0m\n\u001b[1;32m    698\u001b[0m                 \u001b[0;32mif\u001b[0m \u001b[0mgetattr\u001b[0m\u001b[0;34m(\u001b[0m\u001b[0mself\u001b[0m\u001b[0;34m.\u001b[0m\u001b[0m_backend\u001b[0m\u001b[0;34m,\u001b[0m \u001b[0;34m'supports_timeout'\u001b[0m\u001b[0;34m,\u001b[0m \u001b[0;32mFalse\u001b[0m\u001b[0;34m)\u001b[0m\u001b[0;34m:\u001b[0m\u001b[0;34m\u001b[0m\u001b[0m\n\u001b[0;32m--> 699\u001b[0;31m                     \u001b[0mself\u001b[0m\u001b[0;34m.\u001b[0m\u001b[0m_output\u001b[0m\u001b[0;34m.\u001b[0m\u001b[0mextend\u001b[0m\u001b[0;34m(\u001b[0m\u001b[0mjob\u001b[0m\u001b[0;34m.\u001b[0m\u001b[0mget\u001b[0m\u001b[0;34m(\u001b[0m\u001b[0mtimeout\u001b[0m\u001b[0;34m=\u001b[0m\u001b[0mself\u001b[0m\u001b[0;34m.\u001b[0m\u001b[0mtimeout\u001b[0m\u001b[0;34m)\u001b[0m\u001b[0;34m)\u001b[0m\u001b[0;34m\u001b[0m\u001b[0m\n\u001b[0m\u001b[1;32m    700\u001b[0m                 \u001b[0;32melse\u001b[0m\u001b[0;34m:\u001b[0m\u001b[0;34m\u001b[0m\u001b[0m\n\u001b[1;32m    701\u001b[0m                     \u001b[0mself\u001b[0m\u001b[0;34m.\u001b[0m\u001b[0m_output\u001b[0m\u001b[0;34m.\u001b[0m\u001b[0mextend\u001b[0m\u001b[0;34m(\u001b[0m\u001b[0mjob\u001b[0m\u001b[0;34m.\u001b[0m\u001b[0mget\u001b[0m\u001b[0;34m(\u001b[0m\u001b[0;34m)\u001b[0m\u001b[0;34m)\u001b[0m\u001b[0;34m\u001b[0m\u001b[0m\n",
      "\u001b[0;32m~/anaconda3/lib/python3.6/multiprocessing/pool.py\u001b[0m in \u001b[0;36mget\u001b[0;34m(self, timeout)\u001b[0m\n\u001b[1;32m    636\u001b[0m \u001b[0;34m\u001b[0m\u001b[0m\n\u001b[1;32m    637\u001b[0m     \u001b[0;32mdef\u001b[0m \u001b[0mget\u001b[0m\u001b[0;34m(\u001b[0m\u001b[0mself\u001b[0m\u001b[0;34m,\u001b[0m \u001b[0mtimeout\u001b[0m\u001b[0;34m=\u001b[0m\u001b[0;32mNone\u001b[0m\u001b[0;34m)\u001b[0m\u001b[0;34m:\u001b[0m\u001b[0;34m\u001b[0m\u001b[0m\n\u001b[0;32m--> 638\u001b[0;31m         \u001b[0mself\u001b[0m\u001b[0;34m.\u001b[0m\u001b[0mwait\u001b[0m\u001b[0;34m(\u001b[0m\u001b[0mtimeout\u001b[0m\u001b[0;34m)\u001b[0m\u001b[0;34m\u001b[0m\u001b[0m\n\u001b[0m\u001b[1;32m    639\u001b[0m         \u001b[0;32mif\u001b[0m \u001b[0;32mnot\u001b[0m \u001b[0mself\u001b[0m\u001b[0;34m.\u001b[0m\u001b[0mready\u001b[0m\u001b[0;34m(\u001b[0m\u001b[0;34m)\u001b[0m\u001b[0;34m:\u001b[0m\u001b[0;34m\u001b[0m\u001b[0m\n\u001b[1;32m    640\u001b[0m             \u001b[0;32mraise\u001b[0m \u001b[0mTimeoutError\u001b[0m\u001b[0;34m\u001b[0m\u001b[0m\n",
      "\u001b[0;32m~/anaconda3/lib/python3.6/multiprocessing/pool.py\u001b[0m in \u001b[0;36mwait\u001b[0;34m(self, timeout)\u001b[0m\n\u001b[1;32m    633\u001b[0m \u001b[0;34m\u001b[0m\u001b[0m\n\u001b[1;32m    634\u001b[0m     \u001b[0;32mdef\u001b[0m \u001b[0mwait\u001b[0m\u001b[0;34m(\u001b[0m\u001b[0mself\u001b[0m\u001b[0;34m,\u001b[0m \u001b[0mtimeout\u001b[0m\u001b[0;34m=\u001b[0m\u001b[0;32mNone\u001b[0m\u001b[0;34m)\u001b[0m\u001b[0;34m:\u001b[0m\u001b[0;34m\u001b[0m\u001b[0m\n\u001b[0;32m--> 635\u001b[0;31m         \u001b[0mself\u001b[0m\u001b[0;34m.\u001b[0m\u001b[0m_event\u001b[0m\u001b[0;34m.\u001b[0m\u001b[0mwait\u001b[0m\u001b[0;34m(\u001b[0m\u001b[0mtimeout\u001b[0m\u001b[0;34m)\u001b[0m\u001b[0;34m\u001b[0m\u001b[0m\n\u001b[0m\u001b[1;32m    636\u001b[0m \u001b[0;34m\u001b[0m\u001b[0m\n\u001b[1;32m    637\u001b[0m     \u001b[0;32mdef\u001b[0m \u001b[0mget\u001b[0m\u001b[0;34m(\u001b[0m\u001b[0mself\u001b[0m\u001b[0;34m,\u001b[0m \u001b[0mtimeout\u001b[0m\u001b[0;34m=\u001b[0m\u001b[0;32mNone\u001b[0m\u001b[0;34m)\u001b[0m\u001b[0;34m:\u001b[0m\u001b[0;34m\u001b[0m\u001b[0m\n",
      "\u001b[0;32m~/anaconda3/lib/python3.6/threading.py\u001b[0m in \u001b[0;36mwait\u001b[0;34m(self, timeout)\u001b[0m\n\u001b[1;32m    549\u001b[0m             \u001b[0msignaled\u001b[0m \u001b[0;34m=\u001b[0m \u001b[0mself\u001b[0m\u001b[0;34m.\u001b[0m\u001b[0m_flag\u001b[0m\u001b[0;34m\u001b[0m\u001b[0m\n\u001b[1;32m    550\u001b[0m             \u001b[0;32mif\u001b[0m \u001b[0;32mnot\u001b[0m \u001b[0msignaled\u001b[0m\u001b[0;34m:\u001b[0m\u001b[0;34m\u001b[0m\u001b[0m\n\u001b[0;32m--> 551\u001b[0;31m                 \u001b[0msignaled\u001b[0m \u001b[0;34m=\u001b[0m \u001b[0mself\u001b[0m\u001b[0;34m.\u001b[0m\u001b[0m_cond\u001b[0m\u001b[0;34m.\u001b[0m\u001b[0mwait\u001b[0m\u001b[0;34m(\u001b[0m\u001b[0mtimeout\u001b[0m\u001b[0;34m)\u001b[0m\u001b[0;34m\u001b[0m\u001b[0m\n\u001b[0m\u001b[1;32m    552\u001b[0m             \u001b[0;32mreturn\u001b[0m \u001b[0msignaled\u001b[0m\u001b[0;34m\u001b[0m\u001b[0m\n\u001b[1;32m    553\u001b[0m \u001b[0;34m\u001b[0m\u001b[0m\n",
      "\u001b[0;32m~/anaconda3/lib/python3.6/threading.py\u001b[0m in \u001b[0;36mwait\u001b[0;34m(self, timeout)\u001b[0m\n\u001b[1;32m    293\u001b[0m         \u001b[0;32mtry\u001b[0m\u001b[0;34m:\u001b[0m    \u001b[0;31m# restore state no matter what (e.g., KeyboardInterrupt)\u001b[0m\u001b[0;34m\u001b[0m\u001b[0m\n\u001b[1;32m    294\u001b[0m             \u001b[0;32mif\u001b[0m \u001b[0mtimeout\u001b[0m \u001b[0;32mis\u001b[0m \u001b[0;32mNone\u001b[0m\u001b[0;34m:\u001b[0m\u001b[0;34m\u001b[0m\u001b[0m\n\u001b[0;32m--> 295\u001b[0;31m                 \u001b[0mwaiter\u001b[0m\u001b[0;34m.\u001b[0m\u001b[0macquire\u001b[0m\u001b[0;34m(\u001b[0m\u001b[0;34m)\u001b[0m\u001b[0;34m\u001b[0m\u001b[0m\n\u001b[0m\u001b[1;32m    296\u001b[0m                 \u001b[0mgotit\u001b[0m \u001b[0;34m=\u001b[0m \u001b[0;32mTrue\u001b[0m\u001b[0;34m\u001b[0m\u001b[0m\n\u001b[1;32m    297\u001b[0m             \u001b[0;32melse\u001b[0m\u001b[0;34m:\u001b[0m\u001b[0;34m\u001b[0m\u001b[0m\n",
      "\u001b[0;31mKeyboardInterrupt\u001b[0m: "
     ]
    }
   ],
   "source": [
    "predictors = [\"Item_MRP\", \"Item_Visibility_MeanRatio\", \"Item_Visibility\", \"Item_Weight\", \"Outlet_Type_0\", \"Outlet_Type_3\"]\n",
    "hyperparameters = [\n",
    "    {'n_estimators': [4500], 'max_features': [6]},\n",
    "  ]\n",
    "\n",
    "alg = RandomForestRegressor(random_state=42)\n",
    "grid = model_tune_gridsearch(\"random_forest_gridcv_2\", alg, hyperparameters, 10, \n",
    "                             train, test, predictors, target, IDcol, 2)\n",
    "coef = pd.Series(grid.best_estimator_.feature_importances_, predictors).sort_values(ascending=False)\n",
    "coef.plot(kind='bar', title='Feature Importances', figsize=(12, 8))\n",
    "\n",
    "save_fig('random_forest_gridcv_2_coefficients')"
   ]
  },
  {
   "cell_type": "markdown",
   "metadata": {},
   "source": [
    "## Random Forest Random Search CV"
   ]
  },
  {
   "cell_type": "code",
   "execution_count": null,
   "metadata": {},
   "outputs": [
    {
     "name": "stdout",
     "output_type": "stream",
     "text": [
      "Fitting 5 folds for each of 10 candidates, totalling 50 fits\n",
      "[CV] max_features=4, n_estimators=5860 ...............................\n",
      "[CV] max_features=4, n_estimators=5860 ...............................\n",
      "[CV] max_features=4, n_estimators=5860 ...............................\n",
      "[CV] max_features=4, n_estimators=5860 ...............................\n"
     ]
    }
   ],
   "source": [
    "from scipy.stats import randint\n",
    "\n",
    "predictors = [\"Item_MRP\", \"Item_Visibility_MeanRatio\", \"Item_Visibility\", \"Item_Weight\", \"Outlet_Type_0\", \"Outlet_Type_3\"]\n",
    "hyperparameters = {\n",
    "    'n_estimators': randint(low=5000, high=7000),\n",
    "    'max_features': randint(low=1, high=6),\n",
    "}\n",
    "\n",
    "alg = RandomForestRegressor(random_state=42)\n",
    "rnd_search = model_tune_randomsearch(\"random_forest_randomcv_1\", alg, hyperparameters, 5, 10, 4, \n",
    "                               train, test, predictors, target, IDcol, 2)\n",
    "coef = pd.Series(rnd_searcho.best_estimator_.feature_importances_, predictors).sort_values(ascending=False)\n",
    "coef.plot(kind='bar', title='Feature Importances', figsize=(12, 8))\n",
    "\n",
    "save_fig('random_forest_randomcv_1_coefficients')"
   ]
  },
  {
   "cell_type": "code",
   "execution_count": null,
   "metadata": {},
   "outputs": [],
   "source": []
  }
 ],
 "metadata": {
  "kernelspec": {
   "display_name": "Python [default]",
   "language": "python",
   "name": "python3"
  },
  "language_info": {
   "codemirror_mode": {
    "name": "ipython",
    "version": 3
   },
   "file_extension": ".py",
   "mimetype": "text/x-python",
   "name": "python",
   "nbconvert_exporter": "python",
   "pygments_lexer": "ipython3",
   "version": "3.6.5"
  },
  "toc": {
   "base_numbering": 1,
   "nav_menu": {},
   "number_sections": true,
   "sideBar": true,
   "skip_h1_title": false,
   "title_cell": "Table of Contents",
   "title_sidebar": "Contents",
   "toc_cell": false,
   "toc_position": {},
   "toc_section_display": true,
   "toc_window_display": true
  }
 },
 "nbformat": 4,
 "nbformat_minor": 2
}
